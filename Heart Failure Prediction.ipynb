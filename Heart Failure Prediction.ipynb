{
 "cells": [
  {
   "cell_type": "markdown",
   "id": "67512284",
   "metadata": {},
   "source": [
    "# Heart Failure Prediction\n",
    "\n",
    "https://www.kaggle.com/datasets/andrewmvd/heart-failure-clinical-data\n",
    "\n",
    "`Binary` classification task\n",
    "\n",
    "__0__ - fatal outcome,\n",
    "\n",
    "__1__ - without fatal outcome\n",
    "\n",
    "\n",
    "    Popular algorithms that can be used for binary classification include:\n",
    "\n",
    "- Logistic Regression,\n",
    "- k-Nearest Neighbors,\n",
    "- Decision Trees,\n",
    "- Support Vector Machine,\n",
    "- Naive Bayes"
   ]
  },
  {
   "cell_type": "code",
   "execution_count": 569,
   "id": "96a0f02d",
   "metadata": {},
   "outputs": [],
   "source": [
    "import warnings\n",
    "from typing import Tuple, List\n",
    "\n",
    "import numpy as np\n",
    "import pandas as pd\n",
    "import seaborn as sns\n",
    "import matplotlib.pyplot as plt\n",
    "from scipy.stats import shapiro\n",
    "from scipy.stats.mstats import winsorize\n",
    "\n",
    "from sklearn.pipeline import Pipeline\n",
    "from sklearn.impute import SimpleImputer\n",
    "from sklearn.metrics import roc_auc_score\n",
    "from sklearn.tree import DecisionTreeClassifier\n",
    "from sklearn.preprocessing import StandardScaler\n",
    "from sklearn.linear_model import LogisticRegression\n",
    "from sklearn.ensemble import BaggingClassifier, RandomForestClassifier\n",
    "from sklearn.model_selection import train_test_split, validation_curve, learning_curve"
   ]
  },
  {
   "cell_type": "code",
   "execution_count": 570,
   "id": "36f65518",
   "metadata": {},
   "outputs": [],
   "source": [
    "# Loading the data\n",
    "df = pd.read_csv('/Users/ekaterinamoskvina/Desktop/heart_failure_clinical_records_dataset.csv')"
   ]
  },
  {
   "cell_type": "markdown",
   "id": "5b80d906",
   "metadata": {},
   "source": [
    "## <font color=\"red\">__Step 1:__</font> \n",
    "Dataset Overview and data preprocessing"
   ]
  },
  {
   "cell_type": "code",
   "execution_count": 513,
   "id": "b54b732f",
   "metadata": {},
   "outputs": [
    {
     "data": {
      "text/html": [
       "<div>\n",
       "<style scoped>\n",
       "    .dataframe tbody tr th:only-of-type {\n",
       "        vertical-align: middle;\n",
       "    }\n",
       "\n",
       "    .dataframe tbody tr th {\n",
       "        vertical-align: top;\n",
       "    }\n",
       "\n",
       "    .dataframe thead th {\n",
       "        text-align: right;\n",
       "    }\n",
       "</style>\n",
       "<table border=\"1\" class=\"dataframe\">\n",
       "  <thead>\n",
       "    <tr style=\"text-align: right;\">\n",
       "      <th></th>\n",
       "      <th>age</th>\n",
       "      <th>anaemia</th>\n",
       "      <th>creatinine_phosphokinase</th>\n",
       "      <th>diabetes</th>\n",
       "      <th>ejection_fraction</th>\n",
       "      <th>high_blood_pressure</th>\n",
       "      <th>platelets</th>\n",
       "      <th>serum_creatinine</th>\n",
       "      <th>serum_sodium</th>\n",
       "      <th>sex</th>\n",
       "      <th>smoking</th>\n",
       "      <th>time</th>\n",
       "      <th>DEATH_EVENT</th>\n",
       "    </tr>\n",
       "  </thead>\n",
       "  <tbody>\n",
       "    <tr>\n",
       "      <th>285</th>\n",
       "      <td>55.000</td>\n",
       "      <td>1</td>\n",
       "      <td>170</td>\n",
       "      <td>1</td>\n",
       "      <td>40</td>\n",
       "      <td>0</td>\n",
       "      <td>336000.0</td>\n",
       "      <td>1.2</td>\n",
       "      <td>135</td>\n",
       "      <td>1</td>\n",
       "      <td>0</td>\n",
       "      <td>250</td>\n",
       "      <td>0</td>\n",
       "    </tr>\n",
       "    <tr>\n",
       "      <th>67</th>\n",
       "      <td>72.000</td>\n",
       "      <td>1</td>\n",
       "      <td>110</td>\n",
       "      <td>0</td>\n",
       "      <td>25</td>\n",
       "      <td>0</td>\n",
       "      <td>274000.0</td>\n",
       "      <td>1.0</td>\n",
       "      <td>140</td>\n",
       "      <td>1</td>\n",
       "      <td>1</td>\n",
       "      <td>65</td>\n",
       "      <td>1</td>\n",
       "    </tr>\n",
       "    <tr>\n",
       "      <th>227</th>\n",
       "      <td>55.000</td>\n",
       "      <td>1</td>\n",
       "      <td>2794</td>\n",
       "      <td>0</td>\n",
       "      <td>35</td>\n",
       "      <td>1</td>\n",
       "      <td>141000.0</td>\n",
       "      <td>1.0</td>\n",
       "      <td>140</td>\n",
       "      <td>1</td>\n",
       "      <td>0</td>\n",
       "      <td>206</td>\n",
       "      <td>0</td>\n",
       "    </tr>\n",
       "    <tr>\n",
       "      <th>27</th>\n",
       "      <td>70.000</td>\n",
       "      <td>0</td>\n",
       "      <td>122</td>\n",
       "      <td>1</td>\n",
       "      <td>45</td>\n",
       "      <td>1</td>\n",
       "      <td>284000.0</td>\n",
       "      <td>1.3</td>\n",
       "      <td>136</td>\n",
       "      <td>1</td>\n",
       "      <td>1</td>\n",
       "      <td>26</td>\n",
       "      <td>1</td>\n",
       "    </tr>\n",
       "    <tr>\n",
       "      <th>187</th>\n",
       "      <td>60.000</td>\n",
       "      <td>0</td>\n",
       "      <td>1896</td>\n",
       "      <td>1</td>\n",
       "      <td>25</td>\n",
       "      <td>0</td>\n",
       "      <td>365000.0</td>\n",
       "      <td>2.1</td>\n",
       "      <td>144</td>\n",
       "      <td>0</td>\n",
       "      <td>0</td>\n",
       "      <td>172</td>\n",
       "      <td>1</td>\n",
       "    </tr>\n",
       "    <tr>\n",
       "      <th>36</th>\n",
       "      <td>90.000</td>\n",
       "      <td>1</td>\n",
       "      <td>60</td>\n",
       "      <td>1</td>\n",
       "      <td>50</td>\n",
       "      <td>0</td>\n",
       "      <td>226000.0</td>\n",
       "      <td>1.0</td>\n",
       "      <td>134</td>\n",
       "      <td>1</td>\n",
       "      <td>0</td>\n",
       "      <td>30</td>\n",
       "      <td>1</td>\n",
       "    </tr>\n",
       "    <tr>\n",
       "      <th>229</th>\n",
       "      <td>72.000</td>\n",
       "      <td>0</td>\n",
       "      <td>211</td>\n",
       "      <td>0</td>\n",
       "      <td>25</td>\n",
       "      <td>0</td>\n",
       "      <td>274000.0</td>\n",
       "      <td>1.2</td>\n",
       "      <td>134</td>\n",
       "      <td>0</td>\n",
       "      <td>0</td>\n",
       "      <td>207</td>\n",
       "      <td>0</td>\n",
       "    </tr>\n",
       "    <tr>\n",
       "      <th>56</th>\n",
       "      <td>70.000</td>\n",
       "      <td>1</td>\n",
       "      <td>75</td>\n",
       "      <td>0</td>\n",
       "      <td>35</td>\n",
       "      <td>0</td>\n",
       "      <td>223000.0</td>\n",
       "      <td>2.7</td>\n",
       "      <td>138</td>\n",
       "      <td>1</td>\n",
       "      <td>1</td>\n",
       "      <td>54</td>\n",
       "      <td>0</td>\n",
       "    </tr>\n",
       "    <tr>\n",
       "      <th>188</th>\n",
       "      <td>60.667</td>\n",
       "      <td>1</td>\n",
       "      <td>151</td>\n",
       "      <td>1</td>\n",
       "      <td>40</td>\n",
       "      <td>1</td>\n",
       "      <td>201000.0</td>\n",
       "      <td>1.0</td>\n",
       "      <td>136</td>\n",
       "      <td>0</td>\n",
       "      <td>0</td>\n",
       "      <td>172</td>\n",
       "      <td>0</td>\n",
       "    </tr>\n",
       "    <tr>\n",
       "      <th>237</th>\n",
       "      <td>70.000</td>\n",
       "      <td>0</td>\n",
       "      <td>232</td>\n",
       "      <td>0</td>\n",
       "      <td>30</td>\n",
       "      <td>0</td>\n",
       "      <td>173000.0</td>\n",
       "      <td>1.2</td>\n",
       "      <td>132</td>\n",
       "      <td>1</td>\n",
       "      <td>0</td>\n",
       "      <td>210</td>\n",
       "      <td>0</td>\n",
       "    </tr>\n",
       "  </tbody>\n",
       "</table>\n",
       "</div>"
      ],
      "text/plain": [
       "        age  anaemia  creatinine_phosphokinase  diabetes  ejection_fraction  \\\n",
       "285  55.000        1                       170         1                 40   \n",
       "67   72.000        1                       110         0                 25   \n",
       "227  55.000        1                      2794         0                 35   \n",
       "27   70.000        0                       122         1                 45   \n",
       "187  60.000        0                      1896         1                 25   \n",
       "36   90.000        1                        60         1                 50   \n",
       "229  72.000        0                       211         0                 25   \n",
       "56   70.000        1                        75         0                 35   \n",
       "188  60.667        1                       151         1                 40   \n",
       "237  70.000        0                       232         0                 30   \n",
       "\n",
       "     high_blood_pressure  platelets  serum_creatinine  serum_sodium  sex  \\\n",
       "285                    0   336000.0               1.2           135    1   \n",
       "67                     0   274000.0               1.0           140    1   \n",
       "227                    1   141000.0               1.0           140    1   \n",
       "27                     1   284000.0               1.3           136    1   \n",
       "187                    0   365000.0               2.1           144    0   \n",
       "36                     0   226000.0               1.0           134    1   \n",
       "229                    0   274000.0               1.2           134    0   \n",
       "56                     0   223000.0               2.7           138    1   \n",
       "188                    1   201000.0               1.0           136    0   \n",
       "237                    0   173000.0               1.2           132    1   \n",
       "\n",
       "     smoking  time  DEATH_EVENT  \n",
       "285        0   250            0  \n",
       "67         1    65            1  \n",
       "227        0   206            0  \n",
       "27         1    26            1  \n",
       "187        0   172            1  \n",
       "36         0    30            1  \n",
       "229        0   207            0  \n",
       "56         1    54            0  \n",
       "188        0   172            0  \n",
       "237        0   210            0  "
      ]
     },
     "execution_count": 513,
     "metadata": {},
     "output_type": "execute_result"
    }
   ],
   "source": [
    "# Dataset Overview\n",
    "df.sample(10)"
   ]
  },
  {
   "cell_type": "code",
   "execution_count": 514,
   "id": "04e78e79",
   "metadata": {},
   "outputs": [
    {
     "name": "stdout",
     "output_type": "stream",
     "text": [
      "<class 'pandas.core.frame.DataFrame'>\n",
      "RangeIndex: 299 entries, 0 to 298\n",
      "Data columns (total 13 columns):\n",
      " #   Column                    Non-Null Count  Dtype  \n",
      "---  ------                    --------------  -----  \n",
      " 0   age                       299 non-null    float64\n",
      " 1   anaemia                   299 non-null    int64  \n",
      " 2   creatinine_phosphokinase  299 non-null    int64  \n",
      " 3   diabetes                  299 non-null    int64  \n",
      " 4   ejection_fraction         299 non-null    int64  \n",
      " 5   high_blood_pressure       299 non-null    int64  \n",
      " 6   platelets                 299 non-null    float64\n",
      " 7   serum_creatinine          299 non-null    float64\n",
      " 8   serum_sodium              299 non-null    int64  \n",
      " 9   sex                       299 non-null    int64  \n",
      " 10  smoking                   299 non-null    int64  \n",
      " 11  time                      299 non-null    int64  \n",
      " 12  DEATH_EVENT               299 non-null    int64  \n",
      "dtypes: float64(3), int64(10)\n",
      "memory usage: 30.5 KB\n"
     ]
    }
   ],
   "source": [
    "# data types\n",
    "df.info()"
   ]
  },
  {
   "cell_type": "code",
   "execution_count": 515,
   "id": "b48d8182",
   "metadata": {},
   "outputs": [
    {
     "data": {
      "text/plain": [
       "(3887, (299, 13))"
      ]
     },
     "execution_count": 515,
     "metadata": {},
     "output_type": "execute_result"
    }
   ],
   "source": [
    "# number of observations and features (rows and columns)\n",
    "df.size, df.shape"
   ]
  },
  {
   "cell_type": "code",
   "execution_count": 279,
   "id": "7a271b21",
   "metadata": {},
   "outputs": [
    {
     "data": {
      "text/html": [
       "<div>\n",
       "<style scoped>\n",
       "    .dataframe tbody tr th:only-of-type {\n",
       "        vertical-align: middle;\n",
       "    }\n",
       "\n",
       "    .dataframe tbody tr th {\n",
       "        vertical-align: top;\n",
       "    }\n",
       "\n",
       "    .dataframe thead th {\n",
       "        text-align: right;\n",
       "    }\n",
       "</style>\n",
       "<table border=\"1\" class=\"dataframe\">\n",
       "  <thead>\n",
       "    <tr style=\"text-align: right;\">\n",
       "      <th></th>\n",
       "      <th>age</th>\n",
       "      <th>anaemia</th>\n",
       "      <th>creatinine_phosphokinase</th>\n",
       "      <th>diabetes</th>\n",
       "      <th>ejection_fraction</th>\n",
       "      <th>high_blood_pressure</th>\n",
       "      <th>platelets</th>\n",
       "      <th>serum_creatinine</th>\n",
       "      <th>serum_sodium</th>\n",
       "      <th>sex</th>\n",
       "      <th>smoking</th>\n",
       "      <th>time</th>\n",
       "      <th>DEATH_EVENT</th>\n",
       "    </tr>\n",
       "  </thead>\n",
       "  <tbody>\n",
       "  </tbody>\n",
       "</table>\n",
       "</div>"
      ],
      "text/plain": [
       "Empty DataFrame\n",
       "Columns: [age, anaemia, creatinine_phosphokinase, diabetes, ejection_fraction, high_blood_pressure, platelets, serum_creatinine, serum_sodium, sex, smoking, time, DEATH_EVENT]\n",
       "Index: []"
      ]
     },
     "execution_count": 279,
     "metadata": {},
     "output_type": "execute_result"
    }
   ],
   "source": [
    "# checking duplicated rows\n",
    "df[df.duplicated()]"
   ]
  },
  {
   "cell_type": "code",
   "execution_count": 280,
   "id": "f73da677",
   "metadata": {},
   "outputs": [
    {
     "data": {
      "text/plain": [
       "age                         0\n",
       "anaemia                     0\n",
       "creatinine_phosphokinase    0\n",
       "diabetes                    0\n",
       "ejection_fraction           0\n",
       "high_blood_pressure         0\n",
       "platelets                   0\n",
       "serum_creatinine            0\n",
       "serum_sodium                0\n",
       "sex                         0\n",
       "smoking                     0\n",
       "time                        0\n",
       "DEATH_EVENT                 0\n",
       "dtype: int64"
      ]
     },
     "execution_count": 280,
     "metadata": {},
     "output_type": "execute_result"
    }
   ],
   "source": [
    "# missing values per feature\n",
    "df.isna().sum()"
   ]
  },
  {
   "cell_type": "code",
   "execution_count": 281,
   "id": "166676e1",
   "metadata": {},
   "outputs": [
    {
     "data": {
      "text/plain": [
       "<Axes: >"
      ]
     },
     "execution_count": 281,
     "metadata": {},
     "output_type": "execute_result"
    },
    {
     "data": {
      "image/png": "[encoded data removed]",
      "text/plain": [
       "<Figure size 800x550 with 1 Axes>"
      ]
     },
     "metadata": {},
     "output_type": "display_data"
    }
   ],
   "source": [
    "# another way to check missing values per feature\n",
    "# Is there any variable with missing values\n",
    "sns.heatmap(df.isnull(),yticklabels=False,cbar=False,cmap='viridis')"
   ]
  },
  {
   "cell_type": "code",
   "execution_count": 282,
   "id": "b4c96068",
   "metadata": {},
   "outputs": [
    {
     "data": {
      "text/plain": [
       "0"
      ]
     },
     "execution_count": 282,
     "metadata": {},
     "output_type": "execute_result"
    }
   ],
   "source": [
    "# number of missing cells\n",
    "df.isna().sum().sum()"
   ]
  },
  {
   "cell_type": "code",
   "execution_count": 283,
   "id": "4776a885",
   "metadata": {},
   "outputs": [
    {
     "data": {
      "text/plain": [
       "0.0"
      ]
     },
     "execution_count": 283,
     "metadata": {},
     "output_type": "execute_result"
    }
   ],
   "source": [
    "# percentage of missing cells\n",
    "round(df.isna().sum().sum() / df.size * 100,1)"
   ]
  },
  {
   "cell_type": "code",
   "execution_count": 284,
   "id": "a6358ffb",
   "metadata": {},
   "outputs": [
    {
     "name": "stdout",
     "output_type": "stream",
     "text": [
      "age 0\n",
      "anaemia 0\n",
      "creatinine_phosphokinase 0\n",
      "diabetes 0\n",
      "ejection_fraction 0\n",
      "high_blood_pressure 0\n",
      "platelets 0\n",
      "serum_creatinine 0\n",
      "serum_sodium 0\n",
      "sex 0\n",
      "smoking 0\n",
      "time 0\n",
      "DEATH_EVENT 0\n"
     ]
    }
   ],
   "source": [
    "# number of NaN values \n",
    "for i in df.columns:\n",
    "    print(i, df[i][df[i]== 'NaN'].count())"
   ]
  },
  {
   "cell_type": "markdown",
   "id": "3fc3af38",
   "metadata": {},
   "source": [
    "<font color=\"blue\">__The dataset have two types of features:__</font>\n",
    "- continuous,\n",
    "- categorical(binary)\n",
    "\n",
    "To apply `describe method` split a dataset into two: continuous_data and categorical_data_binary to analyze them separately. "
   ]
  },
  {
   "cell_type": "code",
   "execution_count": 285,
   "id": "5aa4fc51",
   "metadata": {},
   "outputs": [
    {
     "name": "stdout",
     "output_type": "stream",
     "text": [
      "age                          47\n",
      "anaemia                       2\n",
      "creatinine_phosphokinase    208\n",
      "diabetes                      2\n",
      "ejection_fraction            17\n",
      "high_blood_pressure           2\n",
      "platelets                   176\n",
      "serum_creatinine             40\n",
      "serum_sodium                 27\n",
      "sex                           2\n",
      "smoking                       2\n",
      "time                        148\n",
      "DEATH_EVENT                   2\n",
      "dtype: int64\n"
     ]
    }
   ],
   "source": [
    "# Check columns for the number of unique values to identify columns with two unique values\n",
    "print(df.nunique())"
   ]
  },
  {
   "cell_type": "code",
   "execution_count": 340,
   "id": "e0d74a85",
   "metadata": {},
   "outputs": [],
   "source": [
    "df_for_splitting = df.copy()"
   ]
  },
  {
   "cell_type": "code",
   "execution_count": 200,
   "id": "fc059816",
   "metadata": {},
   "outputs": [
    {
     "data": {
      "text/html": [
       "<div>\n",
       "<style scoped>\n",
       "    .dataframe tbody tr th:only-of-type {\n",
       "        vertical-align: middle;\n",
       "    }\n",
       "\n",
       "    .dataframe tbody tr th {\n",
       "        vertical-align: top;\n",
       "    }\n",
       "\n",
       "    .dataframe thead th {\n",
       "        text-align: right;\n",
       "    }\n",
       "</style>\n",
       "<table border=\"1\" class=\"dataframe\">\n",
       "  <thead>\n",
       "    <tr style=\"text-align: right;\">\n",
       "      <th></th>\n",
       "      <th>Continuous_Data</th>\n",
       "      <th>Categorical(binary)_Data</th>\n",
       "    </tr>\n",
       "  </thead>\n",
       "  <tbody>\n",
       "    <tr>\n",
       "      <th>0</th>\n",
       "      <td>Age</td>\n",
       "      <td>anaemia</td>\n",
       "    </tr>\n",
       "    <tr>\n",
       "      <th>1</th>\n",
       "      <td>creatinine_phosphokinase</td>\n",
       "      <td>diabetes</td>\n",
       "    </tr>\n",
       "    <tr>\n",
       "      <th>2</th>\n",
       "      <td>ejection_fraction</td>\n",
       "      <td>high_blood_pressure</td>\n",
       "    </tr>\n",
       "    <tr>\n",
       "      <th>3</th>\n",
       "      <td>platelets</td>\n",
       "      <td>sex</td>\n",
       "    </tr>\n",
       "    <tr>\n",
       "      <th>4</th>\n",
       "      <td>serum_creatinine</td>\n",
       "      <td>smoking</td>\n",
       "    </tr>\n",
       "    <tr>\n",
       "      <th>5</th>\n",
       "      <td>serum_sodium</td>\n",
       "      <td>time</td>\n",
       "    </tr>\n",
       "  </tbody>\n",
       "</table>\n",
       "</div>"
      ],
      "text/plain": [
       "            Continuous_Data Categorical(binary)_Data\n",
       "0                       Age                  anaemia\n",
       "1  creatinine_phosphokinase                 diabetes\n",
       "2         ejection_fraction      high_blood_pressure\n",
       "3                 platelets                      sex\n",
       "4          serum_creatinine                  smoking\n",
       "5              serum_sodium                     time"
      ]
     },
     "execution_count": 200,
     "metadata": {},
     "output_type": "execute_result"
    }
   ],
   "source": [
    "# List 1\n",
    "continuous_data = ['Age', 'creatinine_phosphokinase', 'ejection_fraction', 'platelets', 'serum_creatinine', 'serum_sodium']\n",
    "\n",
    "# List 2\n",
    "categorical_data_binary = ['anaemia', 'diabetes', 'high_blood_pressure', 'sex', 'smoking', 'time', 'DEATH_EVENT']\n",
    "\n",
    "list_of_tuples = list(zip(continuous_data,categorical_data_binary))\n",
    "df_features = pd.DataFrame(list_of_tuples, columns=['Continuous_Data', 'Categorical(binary)_Data'])\n",
    "df_features"
   ]
  },
  {
   "cell_type": "code",
   "execution_count": 341,
   "id": "25f82d63",
   "metadata": {},
   "outputs": [],
   "source": [
    "df_numerical = df_for_splitting[['age', 'creatinine_phosphokinase', 'ejection_fraction', 'platelets', 'serum_creatinine', 'serum_sodium']]\n",
    "df_categorical = df_for_splitting[['anaemia', 'diabetes', 'high_blood_pressure', 'sex', 'smoking', 'time', 'DEATH_EVENT']]"
   ]
  },
  {
   "cell_type": "code",
   "execution_count": 342,
   "id": "1abf0998",
   "metadata": {},
   "outputs": [
    {
     "data": {
      "text/html": [
       "<div>\n",
       "<style scoped>\n",
       "    .dataframe tbody tr th:only-of-type {\n",
       "        vertical-align: middle;\n",
       "    }\n",
       "\n",
       "    .dataframe tbody tr th {\n",
       "        vertical-align: top;\n",
       "    }\n",
       "\n",
       "    .dataframe thead th {\n",
       "        text-align: right;\n",
       "    }\n",
       "</style>\n",
       "<table border=\"1\" class=\"dataframe\">\n",
       "  <thead>\n",
       "    <tr style=\"text-align: right;\">\n",
       "      <th></th>\n",
       "      <th>anaemia</th>\n",
       "      <th>diabetes</th>\n",
       "      <th>high_blood_pressure</th>\n",
       "      <th>sex</th>\n",
       "      <th>smoking</th>\n",
       "      <th>time</th>\n",
       "      <th>DEATH_EVENT</th>\n",
       "    </tr>\n",
       "  </thead>\n",
       "  <tbody>\n",
       "    <tr>\n",
       "      <th>0</th>\n",
       "      <td>0</td>\n",
       "      <td>0</td>\n",
       "      <td>1</td>\n",
       "      <td>1</td>\n",
       "      <td>0</td>\n",
       "      <td>4</td>\n",
       "      <td>1</td>\n",
       "    </tr>\n",
       "    <tr>\n",
       "      <th>1</th>\n",
       "      <td>0</td>\n",
       "      <td>0</td>\n",
       "      <td>0</td>\n",
       "      <td>1</td>\n",
       "      <td>0</td>\n",
       "      <td>6</td>\n",
       "      <td>1</td>\n",
       "    </tr>\n",
       "    <tr>\n",
       "      <th>2</th>\n",
       "      <td>0</td>\n",
       "      <td>0</td>\n",
       "      <td>0</td>\n",
       "      <td>1</td>\n",
       "      <td>1</td>\n",
       "      <td>7</td>\n",
       "      <td>1</td>\n",
       "    </tr>\n",
       "    <tr>\n",
       "      <th>3</th>\n",
       "      <td>1</td>\n",
       "      <td>0</td>\n",
       "      <td>0</td>\n",
       "      <td>1</td>\n",
       "      <td>0</td>\n",
       "      <td>7</td>\n",
       "      <td>1</td>\n",
       "    </tr>\n",
       "    <tr>\n",
       "      <th>4</th>\n",
       "      <td>1</td>\n",
       "      <td>1</td>\n",
       "      <td>0</td>\n",
       "      <td>0</td>\n",
       "      <td>0</td>\n",
       "      <td>8</td>\n",
       "      <td>1</td>\n",
       "    </tr>\n",
       "    <tr>\n",
       "      <th>...</th>\n",
       "      <td>...</td>\n",
       "      <td>...</td>\n",
       "      <td>...</td>\n",
       "      <td>...</td>\n",
       "      <td>...</td>\n",
       "      <td>...</td>\n",
       "      <td>...</td>\n",
       "    </tr>\n",
       "    <tr>\n",
       "      <th>294</th>\n",
       "      <td>0</td>\n",
       "      <td>1</td>\n",
       "      <td>1</td>\n",
       "      <td>1</td>\n",
       "      <td>1</td>\n",
       "      <td>270</td>\n",
       "      <td>0</td>\n",
       "    </tr>\n",
       "    <tr>\n",
       "      <th>295</th>\n",
       "      <td>0</td>\n",
       "      <td>0</td>\n",
       "      <td>0</td>\n",
       "      <td>0</td>\n",
       "      <td>0</td>\n",
       "      <td>271</td>\n",
       "      <td>0</td>\n",
       "    </tr>\n",
       "    <tr>\n",
       "      <th>296</th>\n",
       "      <td>0</td>\n",
       "      <td>1</td>\n",
       "      <td>0</td>\n",
       "      <td>0</td>\n",
       "      <td>0</td>\n",
       "      <td>278</td>\n",
       "      <td>0</td>\n",
       "    </tr>\n",
       "    <tr>\n",
       "      <th>297</th>\n",
       "      <td>0</td>\n",
       "      <td>0</td>\n",
       "      <td>0</td>\n",
       "      <td>1</td>\n",
       "      <td>1</td>\n",
       "      <td>280</td>\n",
       "      <td>0</td>\n",
       "    </tr>\n",
       "    <tr>\n",
       "      <th>298</th>\n",
       "      <td>0</td>\n",
       "      <td>0</td>\n",
       "      <td>0</td>\n",
       "      <td>1</td>\n",
       "      <td>1</td>\n",
       "      <td>285</td>\n",
       "      <td>0</td>\n",
       "    </tr>\n",
       "  </tbody>\n",
       "</table>\n",
       "<p>299 rows × 7 columns</p>\n",
       "</div>"
      ],
      "text/plain": [
       "     anaemia  diabetes  high_blood_pressure  sex  smoking  time  DEATH_EVENT\n",
       "0          0         0                    1    1        0     4            1\n",
       "1          0         0                    0    1        0     6            1\n",
       "2          0         0                    0    1        1     7            1\n",
       "3          1         0                    0    1        0     7            1\n",
       "4          1         1                    0    0        0     8            1\n",
       "..       ...       ...                  ...  ...      ...   ...          ...\n",
       "294        0         1                    1    1        1   270            0\n",
       "295        0         0                    0    0        0   271            0\n",
       "296        0         1                    0    0        0   278            0\n",
       "297        0         0                    0    1        1   280            0\n",
       "298        0         0                    0    1        1   285            0\n",
       "\n",
       "[299 rows x 7 columns]"
      ]
     },
     "execution_count": 342,
     "metadata": {},
     "output_type": "execute_result"
    }
   ],
   "source": [
    "df_categorical"
   ]
  },
  {
   "cell_type": "code",
   "execution_count": 343,
   "id": "7ecd56b9",
   "metadata": {},
   "outputs": [
    {
     "data": {
      "text/html": [
       "<div>\n",
       "<style scoped>\n",
       "    .dataframe tbody tr th:only-of-type {\n",
       "        vertical-align: middle;\n",
       "    }\n",
       "\n",
       "    .dataframe tbody tr th {\n",
       "        vertical-align: top;\n",
       "    }\n",
       "\n",
       "    .dataframe thead th {\n",
       "        text-align: right;\n",
       "    }\n",
       "</style>\n",
       "<table border=\"1\" class=\"dataframe\">\n",
       "  <thead>\n",
       "    <tr style=\"text-align: right;\">\n",
       "      <th></th>\n",
       "      <th>age</th>\n",
       "      <th>creatinine_phosphokinase</th>\n",
       "      <th>ejection_fraction</th>\n",
       "      <th>platelets</th>\n",
       "      <th>serum_creatinine</th>\n",
       "      <th>serum_sodium</th>\n",
       "    </tr>\n",
       "  </thead>\n",
       "  <tbody>\n",
       "    <tr>\n",
       "      <th>0</th>\n",
       "      <td>75.0</td>\n",
       "      <td>582</td>\n",
       "      <td>20</td>\n",
       "      <td>265000.00</td>\n",
       "      <td>1.9</td>\n",
       "      <td>130</td>\n",
       "    </tr>\n",
       "    <tr>\n",
       "      <th>1</th>\n",
       "      <td>55.0</td>\n",
       "      <td>7861</td>\n",
       "      <td>38</td>\n",
       "      <td>263358.03</td>\n",
       "      <td>1.1</td>\n",
       "      <td>136</td>\n",
       "    </tr>\n",
       "    <tr>\n",
       "      <th>2</th>\n",
       "      <td>65.0</td>\n",
       "      <td>146</td>\n",
       "      <td>20</td>\n",
       "      <td>162000.00</td>\n",
       "      <td>1.3</td>\n",
       "      <td>129</td>\n",
       "    </tr>\n",
       "    <tr>\n",
       "      <th>3</th>\n",
       "      <td>50.0</td>\n",
       "      <td>111</td>\n",
       "      <td>20</td>\n",
       "      <td>210000.00</td>\n",
       "      <td>1.9</td>\n",
       "      <td>137</td>\n",
       "    </tr>\n",
       "    <tr>\n",
       "      <th>4</th>\n",
       "      <td>65.0</td>\n",
       "      <td>160</td>\n",
       "      <td>20</td>\n",
       "      <td>327000.00</td>\n",
       "      <td>2.7</td>\n",
       "      <td>116</td>\n",
       "    </tr>\n",
       "    <tr>\n",
       "      <th>...</th>\n",
       "      <td>...</td>\n",
       "      <td>...</td>\n",
       "      <td>...</td>\n",
       "      <td>...</td>\n",
       "      <td>...</td>\n",
       "      <td>...</td>\n",
       "    </tr>\n",
       "    <tr>\n",
       "      <th>294</th>\n",
       "      <td>62.0</td>\n",
       "      <td>61</td>\n",
       "      <td>38</td>\n",
       "      <td>155000.00</td>\n",
       "      <td>1.1</td>\n",
       "      <td>143</td>\n",
       "    </tr>\n",
       "    <tr>\n",
       "      <th>295</th>\n",
       "      <td>55.0</td>\n",
       "      <td>1820</td>\n",
       "      <td>38</td>\n",
       "      <td>270000.00</td>\n",
       "      <td>1.2</td>\n",
       "      <td>139</td>\n",
       "    </tr>\n",
       "    <tr>\n",
       "      <th>296</th>\n",
       "      <td>45.0</td>\n",
       "      <td>2060</td>\n",
       "      <td>60</td>\n",
       "      <td>742000.00</td>\n",
       "      <td>0.8</td>\n",
       "      <td>138</td>\n",
       "    </tr>\n",
       "    <tr>\n",
       "      <th>297</th>\n",
       "      <td>45.0</td>\n",
       "      <td>2413</td>\n",
       "      <td>38</td>\n",
       "      <td>140000.00</td>\n",
       "      <td>1.4</td>\n",
       "      <td>140</td>\n",
       "    </tr>\n",
       "    <tr>\n",
       "      <th>298</th>\n",
       "      <td>50.0</td>\n",
       "      <td>196</td>\n",
       "      <td>45</td>\n",
       "      <td>395000.00</td>\n",
       "      <td>1.6</td>\n",
       "      <td>136</td>\n",
       "    </tr>\n",
       "  </tbody>\n",
       "</table>\n",
       "<p>299 rows × 6 columns</p>\n",
       "</div>"
      ],
      "text/plain": [
       "      age  creatinine_phosphokinase  ejection_fraction  platelets  \\\n",
       "0    75.0                       582                 20  265000.00   \n",
       "1    55.0                      7861                 38  263358.03   \n",
       "2    65.0                       146                 20  162000.00   \n",
       "3    50.0                       111                 20  210000.00   \n",
       "4    65.0                       160                 20  327000.00   \n",
       "..    ...                       ...                ...        ...   \n",
       "294  62.0                        61                 38  155000.00   \n",
       "295  55.0                      1820                 38  270000.00   \n",
       "296  45.0                      2060                 60  742000.00   \n",
       "297  45.0                      2413                 38  140000.00   \n",
       "298  50.0                       196                 45  395000.00   \n",
       "\n",
       "     serum_creatinine  serum_sodium  \n",
       "0                 1.9           130  \n",
       "1                 1.1           136  \n",
       "2                 1.3           129  \n",
       "3                 1.9           137  \n",
       "4                 2.7           116  \n",
       "..                ...           ...  \n",
       "294               1.1           143  \n",
       "295               1.2           139  \n",
       "296               0.8           138  \n",
       "297               1.4           140  \n",
       "298               1.6           136  \n",
       "\n",
       "[299 rows x 6 columns]"
      ]
     },
     "execution_count": 343,
     "metadata": {},
     "output_type": "execute_result"
    }
   ],
   "source": [
    "df_numerical"
   ]
  },
  {
   "cell_type": "code",
   "execution_count": 290,
   "id": "0a991587",
   "metadata": {},
   "outputs": [
    {
     "data": {
      "text/html": [
       "<div>\n",
       "<style scoped>\n",
       "    .dataframe tbody tr th:only-of-type {\n",
       "        vertical-align: middle;\n",
       "    }\n",
       "\n",
       "    .dataframe tbody tr th {\n",
       "        vertical-align: top;\n",
       "    }\n",
       "\n",
       "    .dataframe thead th {\n",
       "        text-align: right;\n",
       "    }\n",
       "</style>\n",
       "<table border=\"1\" class=\"dataframe\">\n",
       "  <thead>\n",
       "    <tr style=\"text-align: right;\">\n",
       "      <th></th>\n",
       "      <th>age</th>\n",
       "      <th>creatinine_phosphokinase</th>\n",
       "      <th>ejection_fraction</th>\n",
       "      <th>platelets</th>\n",
       "      <th>serum_creatinine</th>\n",
       "      <th>serum_sodium</th>\n",
       "    </tr>\n",
       "  </thead>\n",
       "  <tbody>\n",
       "    <tr>\n",
       "      <th>count</th>\n",
       "      <td>299.0</td>\n",
       "      <td>299.0</td>\n",
       "      <td>299.0</td>\n",
       "      <td>299.0</td>\n",
       "      <td>299.0</td>\n",
       "      <td>299.0</td>\n",
       "    </tr>\n",
       "    <tr>\n",
       "      <th>mean</th>\n",
       "      <td>61.0</td>\n",
       "      <td>582.0</td>\n",
       "      <td>38.0</td>\n",
       "      <td>263358.0</td>\n",
       "      <td>1.0</td>\n",
       "      <td>137.0</td>\n",
       "    </tr>\n",
       "    <tr>\n",
       "      <th>std</th>\n",
       "      <td>12.0</td>\n",
       "      <td>970.0</td>\n",
       "      <td>12.0</td>\n",
       "      <td>97804.0</td>\n",
       "      <td>1.0</td>\n",
       "      <td>4.0</td>\n",
       "    </tr>\n",
       "    <tr>\n",
       "      <th>min</th>\n",
       "      <td>40.0</td>\n",
       "      <td>23.0</td>\n",
       "      <td>14.0</td>\n",
       "      <td>25100.0</td>\n",
       "      <td>0.0</td>\n",
       "      <td>113.0</td>\n",
       "    </tr>\n",
       "    <tr>\n",
       "      <th>25%</th>\n",
       "      <td>51.0</td>\n",
       "      <td>116.0</td>\n",
       "      <td>30.0</td>\n",
       "      <td>212500.0</td>\n",
       "      <td>1.0</td>\n",
       "      <td>134.0</td>\n",
       "    </tr>\n",
       "    <tr>\n",
       "      <th>50%</th>\n",
       "      <td>60.0</td>\n",
       "      <td>250.0</td>\n",
       "      <td>38.0</td>\n",
       "      <td>262000.0</td>\n",
       "      <td>1.0</td>\n",
       "      <td>137.0</td>\n",
       "    </tr>\n",
       "    <tr>\n",
       "      <th>75%</th>\n",
       "      <td>70.0</td>\n",
       "      <td>582.0</td>\n",
       "      <td>45.0</td>\n",
       "      <td>303500.0</td>\n",
       "      <td>1.0</td>\n",
       "      <td>140.0</td>\n",
       "    </tr>\n",
       "    <tr>\n",
       "      <th>max</th>\n",
       "      <td>95.0</td>\n",
       "      <td>7861.0</td>\n",
       "      <td>80.0</td>\n",
       "      <td>850000.0</td>\n",
       "      <td>9.0</td>\n",
       "      <td>148.0</td>\n",
       "    </tr>\n",
       "  </tbody>\n",
       "</table>\n",
       "</div>"
      ],
      "text/plain": [
       "         age  creatinine_phosphokinase  ejection_fraction  platelets  \\\n",
       "count  299.0                     299.0              299.0      299.0   \n",
       "mean    61.0                     582.0               38.0   263358.0   \n",
       "std     12.0                     970.0               12.0    97804.0   \n",
       "min     40.0                      23.0               14.0    25100.0   \n",
       "25%     51.0                     116.0               30.0   212500.0   \n",
       "50%     60.0                     250.0               38.0   262000.0   \n",
       "75%     70.0                     582.0               45.0   303500.0   \n",
       "max     95.0                    7861.0               80.0   850000.0   \n",
       "\n",
       "       serum_creatinine  serum_sodium  \n",
       "count             299.0         299.0  \n",
       "mean                1.0         137.0  \n",
       "std                 1.0           4.0  \n",
       "min                 0.0         113.0  \n",
       "25%                 1.0         134.0  \n",
       "50%                 1.0         137.0  \n",
       "75%                 1.0         140.0  \n",
       "max                 9.0         148.0  "
      ]
     },
     "execution_count": 290,
     "metadata": {},
     "output_type": "execute_result"
    }
   ],
   "source": [
    "df_numerical.describe().round()"
   ]
  },
  {
   "cell_type": "markdown",
   "id": "a98fa234",
   "metadata": {},
   "source": [
    "### <font color=\"blue\">Interpretation</font>\n",
    "\n",
    "It can be observed that the maximum and minimum values of numerical features differs greatly from the 75% and 25% values, correspondingly. This may indicate the presence of outliers."
   ]
  },
  {
   "cell_type": "code",
   "execution_count": 291,
   "id": "39b96b6b",
   "metadata": {},
   "outputs": [
    {
     "name": "stdout",
     "output_type": "stream",
     "text": [
      "<class 'pandas.core.frame.DataFrame'>\n",
      "RangeIndex: 299 entries, 0 to 298\n",
      "Data columns (total 7 columns):\n",
      " #   Column               Non-Null Count  Dtype\n",
      "---  ------               --------------  -----\n",
      " 0   anaemia              299 non-null    int64\n",
      " 1   diabetes             299 non-null    int64\n",
      " 2   high_blood_pressure  299 non-null    int64\n",
      " 3   sex                  299 non-null    int64\n",
      " 4   smoking              299 non-null    int64\n",
      " 5   time                 299 non-null    int64\n",
      " 6   DEATH_EVENT          299 non-null    int64\n",
      "dtypes: int64(7)\n",
      "memory usage: 16.5 KB\n"
     ]
    }
   ],
   "source": [
    "df_categorical.info()"
   ]
  },
  {
   "cell_type": "markdown",
   "id": "d2e395e1",
   "metadata": {},
   "source": [
    "__Because categorical data have integer values, convert them to object type to apply a describe() method__"
   ]
  },
  {
   "cell_type": "code",
   "execution_count": 292,
   "id": "6001af01",
   "metadata": {},
   "outputs": [
    {
     "name": "stdout",
     "output_type": "stream",
     "text": [
      "<class 'pandas.core.frame.DataFrame'>\n",
      "RangeIndex: 299 entries, 0 to 298\n",
      "Data columns (total 7 columns):\n",
      " #   Column               Non-Null Count  Dtype \n",
      "---  ------               --------------  ----- \n",
      " 0   anaemia              299 non-null    object\n",
      " 1   diabetes             299 non-null    object\n",
      " 2   high_blood_pressure  299 non-null    object\n",
      " 3   sex                  299 non-null    object\n",
      " 4   smoking              299 non-null    object\n",
      " 5   time                 299 non-null    object\n",
      " 6   DEATH_EVENT          299 non-null    object\n",
      "dtypes: object(7)\n",
      "memory usage: 16.5+ KB\n"
     ]
    }
   ],
   "source": [
    "df_categorical_object = df_categorical.astype(object)\n",
    "df_categorical_object.info()"
   ]
  },
  {
   "cell_type": "code",
   "execution_count": 293,
   "id": "1ca5ca24",
   "metadata": {},
   "outputs": [
    {
     "data": {
      "text/html": [
       "<div>\n",
       "<style scoped>\n",
       "    .dataframe tbody tr th:only-of-type {\n",
       "        vertical-align: middle;\n",
       "    }\n",
       "\n",
       "    .dataframe tbody tr th {\n",
       "        vertical-align: top;\n",
       "    }\n",
       "\n",
       "    .dataframe thead th {\n",
       "        text-align: right;\n",
       "    }\n",
       "</style>\n",
       "<table border=\"1\" class=\"dataframe\">\n",
       "  <thead>\n",
       "    <tr style=\"text-align: right;\">\n",
       "      <th></th>\n",
       "      <th>anaemia</th>\n",
       "      <th>diabetes</th>\n",
       "      <th>high_blood_pressure</th>\n",
       "      <th>sex</th>\n",
       "      <th>smoking</th>\n",
       "      <th>time</th>\n",
       "      <th>DEATH_EVENT</th>\n",
       "    </tr>\n",
       "  </thead>\n",
       "  <tbody>\n",
       "    <tr>\n",
       "      <th>count</th>\n",
       "      <td>299</td>\n",
       "      <td>299</td>\n",
       "      <td>299</td>\n",
       "      <td>299</td>\n",
       "      <td>299</td>\n",
       "      <td>299</td>\n",
       "      <td>299</td>\n",
       "    </tr>\n",
       "    <tr>\n",
       "      <th>unique</th>\n",
       "      <td>2</td>\n",
       "      <td>2</td>\n",
       "      <td>2</td>\n",
       "      <td>2</td>\n",
       "      <td>2</td>\n",
       "      <td>148</td>\n",
       "      <td>2</td>\n",
       "    </tr>\n",
       "    <tr>\n",
       "      <th>top</th>\n",
       "      <td>0</td>\n",
       "      <td>0</td>\n",
       "      <td>0</td>\n",
       "      <td>1</td>\n",
       "      <td>0</td>\n",
       "      <td>250</td>\n",
       "      <td>0</td>\n",
       "    </tr>\n",
       "    <tr>\n",
       "      <th>freq</th>\n",
       "      <td>170</td>\n",
       "      <td>174</td>\n",
       "      <td>194</td>\n",
       "      <td>194</td>\n",
       "      <td>203</td>\n",
       "      <td>7</td>\n",
       "      <td>203</td>\n",
       "    </tr>\n",
       "  </tbody>\n",
       "</table>\n",
       "</div>"
      ],
      "text/plain": [
       "        anaemia  diabetes  high_blood_pressure  sex  smoking  time  \\\n",
       "count       299       299                  299  299      299   299   \n",
       "unique        2         2                    2    2        2   148   \n",
       "top           0         0                    0    1        0   250   \n",
       "freq        170       174                  194  194      203     7   \n",
       "\n",
       "        DEATH_EVENT  \n",
       "count           299  \n",
       "unique            2  \n",
       "top               0  \n",
       "freq            203  "
      ]
     },
     "execution_count": 293,
     "metadata": {},
     "output_type": "execute_result"
    }
   ],
   "source": [
    "df_categorical_object.describe()"
   ]
  },
  {
   "cell_type": "code",
   "execution_count": 294,
   "id": "ef0160c9",
   "metadata": {},
   "outputs": [
    {
     "data": {
      "text/html": [
       "<div>\n",
       "<style scoped>\n",
       "    .dataframe tbody tr th:only-of-type {\n",
       "        vertical-align: middle;\n",
       "    }\n",
       "\n",
       "    .dataframe tbody tr th {\n",
       "        vertical-align: top;\n",
       "    }\n",
       "\n",
       "    .dataframe thead th {\n",
       "        text-align: right;\n",
       "    }\n",
       "</style>\n",
       "<table border=\"1\" class=\"dataframe\">\n",
       "  <thead>\n",
       "    <tr style=\"text-align: right;\">\n",
       "      <th></th>\n",
       "      <th>anaemia</th>\n",
       "      <th>diabetes</th>\n",
       "      <th>high_blood_pressure</th>\n",
       "      <th>sex</th>\n",
       "      <th>smoking</th>\n",
       "      <th>time</th>\n",
       "      <th>DEATH_EVENT</th>\n",
       "    </tr>\n",
       "  </thead>\n",
       "  <tbody>\n",
       "    <tr>\n",
       "      <th>count</th>\n",
       "      <td>299</td>\n",
       "      <td>299</td>\n",
       "      <td>299</td>\n",
       "      <td>299</td>\n",
       "      <td>299</td>\n",
       "      <td>299</td>\n",
       "      <td>299</td>\n",
       "    </tr>\n",
       "    <tr>\n",
       "      <th>unique</th>\n",
       "      <td>2</td>\n",
       "      <td>2</td>\n",
       "      <td>2</td>\n",
       "      <td>2</td>\n",
       "      <td>2</td>\n",
       "      <td>148</td>\n",
       "      <td>2</td>\n",
       "    </tr>\n",
       "    <tr>\n",
       "      <th>top</th>\n",
       "      <td>0</td>\n",
       "      <td>0</td>\n",
       "      <td>0</td>\n",
       "      <td>1</td>\n",
       "      <td>0</td>\n",
       "      <td>250</td>\n",
       "      <td>0</td>\n",
       "    </tr>\n",
       "    <tr>\n",
       "      <th>freq</th>\n",
       "      <td>170</td>\n",
       "      <td>174</td>\n",
       "      <td>194</td>\n",
       "      <td>194</td>\n",
       "      <td>203</td>\n",
       "      <td>7</td>\n",
       "      <td>203</td>\n",
       "    </tr>\n",
       "  </tbody>\n",
       "</table>\n",
       "</div>"
      ],
      "text/plain": [
       "        anaemia  diabetes  high_blood_pressure  sex  smoking  time  \\\n",
       "count       299       299                  299  299      299   299   \n",
       "unique        2         2                    2    2        2   148   \n",
       "top           0         0                    0    1        0   250   \n",
       "freq        170       174                  194  194      203     7   \n",
       "\n",
       "        DEATH_EVENT  \n",
       "count           299  \n",
       "unique            2  \n",
       "top               0  \n",
       "freq            203  "
      ]
     },
     "execution_count": 294,
     "metadata": {},
     "output_type": "execute_result"
    }
   ],
   "source": [
    "# short code\n",
    "df_categorical_object.astype(object).describe()"
   ]
  },
  {
   "cell_type": "markdown",
   "id": "8f553600",
   "metadata": {},
   "source": [
    "### <font color=\"blue\">Interpretation</font>\n",
    "\n",
    "- __count:__ How many values in the columns.\n",
    "- __unique:__ How many unique values in the columns.\n",
    "- __top:__ The “top” value: 0 or 1.\n",
    "- __freq:__ How often top value occurs 1 time.\n",
    "\n",
    "__It is seen that a dataset has more values without DEATH_EVENT and it is positively correlated with the absence of anaemia, diabetes, high_blood_pressure, smoking, and female gender.__ Later it will be checked. "
   ]
  },
  {
   "cell_type": "markdown",
   "id": "cc26443f",
   "metadata": {},
   "source": [
    "## <font color=\"red\">__Step 2:__</font> \n",
    "\n",
    "Feature Assessment and Visualization"
   ]
  },
  {
   "cell_type": "code",
   "execution_count": 344,
   "id": "5f1f7afb",
   "metadata": {
    "scrolled": false
   },
   "outputs": [
    {
     "name": "stdout",
     "output_type": "stream",
     "text": [
      "--------------------------------------\n",
      "age: is NOT normally distributed\n",
      "--------------------------------------\n",
      "anaemia: is NOT normally distributed\n",
      "--------------------------------------\n",
      "creatinine_phosphokinase: is NOT normally distributed\n",
      "--------------------------------------\n",
      "diabetes: is NOT normally distributed\n",
      "--------------------------------------\n",
      "ejection_fraction: is NOT normally distributed\n",
      "--------------------------------------\n",
      "high_blood_pressure: is NOT normally distributed\n",
      "--------------------------------------\n",
      "platelets: is NOT normally distributed\n",
      "--------------------------------------\n",
      "serum_creatinine: is NOT normally distributed\n",
      "--------------------------------------\n",
      "serum_sodium: is NOT normally distributed\n",
      "--------------------------------------\n",
      "sex: is NOT normally distributed\n",
      "--------------------------------------\n",
      "smoking: is NOT normally distributed\n",
      "--------------------------------------\n",
      "time: is NOT normally distributed\n",
      "--------------------------------------\n",
      "DEATH_EVENT: is NOT normally distributed\n"
     ]
    }
   ],
   "source": [
    "for column in df.columns:\n",
    "    data = df[column]\n",
    "\n",
    "    # Shapiro-Wilk normality test\n",
    "    stat, p = shapiro(data)\n",
    "    alpha = 0.05\n",
    "    if p > alpha:\n",
    "        print(f'{column}: is NORMALLY distributed')\n",
    "    else:\n",
    "        print('--------------------------------------')\n",
    "        print(f'{column}: is NOT normally distributed')"
   ]
  },
  {
   "cell_type": "code",
   "execution_count": 345,
   "id": "a71977f7",
   "metadata": {},
   "outputs": [
    {
     "data": {
      "image/png": "[encoded data removed]",
      "text/plain": [
       "<Figure size 1200x1200 with 16 Axes>"
      ]
     },
     "metadata": {},
     "output_type": "display_data"
    }
   ],
   "source": [
    "num_rows = 4\n",
    "num_col = 4\n",
    "\n",
    "fig, axes = plt.subplots(num_rows, num_col, figsize=(12,12))\n",
    "for i, column in enumerate(df.columns):\n",
    "    row = i // num_cols\n",
    "    col = i % num_cols\n",
    "    \n",
    "    data = df[column]\n",
    "    \n",
    "    axes[row, col].hist(data, bins=10, edgecolor = 'black')\n",
    "    axes[row, col].set_title(column)\n",
    "    \n",
    "plt.tight_layout()\n",
    "plt.show()"
   ]
  },
  {
   "cell_type": "markdown",
   "id": "a754be2e",
   "metadata": {},
   "source": [
    "### <font color=\"green\">Verification of __Outliers__ </font> "
   ]
  },
  {
   "cell_type": "code",
   "execution_count": 516,
   "id": "1b960de2",
   "metadata": {},
   "outputs": [
    {
     "data": {
      "image/png": "[encoded data removed]",
      "text/plain": [
       "<Figure size 800x800 with 6 Axes>"
      ]
     },
     "metadata": {},
     "output_type": "display_data"
    }
   ],
   "source": [
    "fig, axes = plt.subplots(2, 3, figsize=(8, 8))\n",
    "\n",
    "features = ['age', 'creatinine_phosphokinase', 'ejection_fraction', 'platelets', 'serum_creatinine', 'serum_sodium']\n",
    "\n",
    "for i, ax in enumerate(axes.flatten()):\n",
    "    ax.boxplot(df[features[i]])\n",
    "    ax.set_title(features[i])\n",
    "\n",
    "plt.tight_layout()\n",
    "plt.show()"
   ]
  },
  {
   "cell_type": "markdown",
   "id": "0deafd66",
   "metadata": {},
   "source": [
    "### <font color=\"blue\">Interpretation</font>\n",
    "\n",
    "Demonstration of the outliers beyond the first quartile and the third quartile in the box plots.  "
   ]
  },
  {
   "cell_type": "markdown",
   "id": "a416e6fe",
   "metadata": {},
   "source": [
    "__Because outliers can pose a significant threat to model performance, it’s important to handle them.__"
   ]
  },
  {
   "cell_type": "code",
   "execution_count": 571,
   "id": "7efda56a",
   "metadata": {},
   "outputs": [
    {
     "data": {
      "text/html": [
       "<div>\n",
       "<style scoped>\n",
       "    .dataframe tbody tr th:only-of-type {\n",
       "        vertical-align: middle;\n",
       "    }\n",
       "\n",
       "    .dataframe tbody tr th {\n",
       "        vertical-align: top;\n",
       "    }\n",
       "\n",
       "    .dataframe thead th {\n",
       "        text-align: right;\n",
       "    }\n",
       "</style>\n",
       "<table border=\"1\" class=\"dataframe\">\n",
       "  <thead>\n",
       "    <tr style=\"text-align: right;\">\n",
       "      <th></th>\n",
       "      <th>age</th>\n",
       "      <th>anaemia</th>\n",
       "      <th>creatinine_phosphokinase</th>\n",
       "      <th>diabetes</th>\n",
       "      <th>ejection_fraction</th>\n",
       "      <th>high_blood_pressure</th>\n",
       "      <th>platelets</th>\n",
       "      <th>serum_creatinine</th>\n",
       "      <th>serum_sodium</th>\n",
       "      <th>sex</th>\n",
       "      <th>smoking</th>\n",
       "      <th>time</th>\n",
       "      <th>DEATH_EVENT</th>\n",
       "    </tr>\n",
       "  </thead>\n",
       "  <tbody>\n",
       "    <tr>\n",
       "      <th>14</th>\n",
       "      <td>49.0</td>\n",
       "      <td>1</td>\n",
       "      <td>80</td>\n",
       "      <td>0</td>\n",
       "      <td>30</td>\n",
       "      <td>1</td>\n",
       "      <td>427000.0</td>\n",
       "      <td>1.0</td>\n",
       "      <td>138</td>\n",
       "      <td>0</td>\n",
       "      <td>0</td>\n",
       "      <td>12</td>\n",
       "      <td>0</td>\n",
       "    </tr>\n",
       "    <tr>\n",
       "      <th>276</th>\n",
       "      <td>70.0</td>\n",
       "      <td>0</td>\n",
       "      <td>618</td>\n",
       "      <td>0</td>\n",
       "      <td>35</td>\n",
       "      <td>0</td>\n",
       "      <td>327000.0</td>\n",
       "      <td>1.1</td>\n",
       "      <td>142</td>\n",
       "      <td>0</td>\n",
       "      <td>0</td>\n",
       "      <td>245</td>\n",
       "      <td>0</td>\n",
       "    </tr>\n",
       "    <tr>\n",
       "      <th>68</th>\n",
       "      <td>70.0</td>\n",
       "      <td>0</td>\n",
       "      <td>161</td>\n",
       "      <td>0</td>\n",
       "      <td>25</td>\n",
       "      <td>0</td>\n",
       "      <td>244000.0</td>\n",
       "      <td>1.2</td>\n",
       "      <td>142</td>\n",
       "      <td>0</td>\n",
       "      <td>0</td>\n",
       "      <td>66</td>\n",
       "      <td>1</td>\n",
       "    </tr>\n",
       "    <tr>\n",
       "      <th>169</th>\n",
       "      <td>70.0</td>\n",
       "      <td>0</td>\n",
       "      <td>835</td>\n",
       "      <td>0</td>\n",
       "      <td>35</td>\n",
       "      <td>1</td>\n",
       "      <td>305000.0</td>\n",
       "      <td>0.8</td>\n",
       "      <td>133</td>\n",
       "      <td>0</td>\n",
       "      <td>0</td>\n",
       "      <td>145</td>\n",
       "      <td>0</td>\n",
       "    </tr>\n",
       "    <tr>\n",
       "      <th>126</th>\n",
       "      <td>46.0</td>\n",
       "      <td>0</td>\n",
       "      <td>168</td>\n",
       "      <td>1</td>\n",
       "      <td>17</td>\n",
       "      <td>1</td>\n",
       "      <td>271000.0</td>\n",
       "      <td>2.1</td>\n",
       "      <td>124</td>\n",
       "      <td>0</td>\n",
       "      <td>0</td>\n",
       "      <td>100</td>\n",
       "      <td>1</td>\n",
       "    </tr>\n",
       "    <tr>\n",
       "      <th>197</th>\n",
       "      <td>65.0</td>\n",
       "      <td>0</td>\n",
       "      <td>167</td>\n",
       "      <td>0</td>\n",
       "      <td>30</td>\n",
       "      <td>0</td>\n",
       "      <td>259000.0</td>\n",
       "      <td>0.8</td>\n",
       "      <td>138</td>\n",
       "      <td>0</td>\n",
       "      <td>0</td>\n",
       "      <td>186</td>\n",
       "      <td>0</td>\n",
       "    </tr>\n",
       "    <tr>\n",
       "      <th>209</th>\n",
       "      <td>49.0</td>\n",
       "      <td>0</td>\n",
       "      <td>972</td>\n",
       "      <td>1</td>\n",
       "      <td>35</td>\n",
       "      <td>1</td>\n",
       "      <td>268000.0</td>\n",
       "      <td>0.8</td>\n",
       "      <td>130</td>\n",
       "      <td>0</td>\n",
       "      <td>0</td>\n",
       "      <td>187</td>\n",
       "      <td>0</td>\n",
       "    </tr>\n",
       "    <tr>\n",
       "      <th>106</th>\n",
       "      <td>55.0</td>\n",
       "      <td>0</td>\n",
       "      <td>748</td>\n",
       "      <td>0</td>\n",
       "      <td>45</td>\n",
       "      <td>0</td>\n",
       "      <td>263000.0</td>\n",
       "      <td>1.3</td>\n",
       "      <td>137</td>\n",
       "      <td>1</td>\n",
       "      <td>0</td>\n",
       "      <td>88</td>\n",
       "      <td>0</td>\n",
       "    </tr>\n",
       "    <tr>\n",
       "      <th>282</th>\n",
       "      <td>42.0</td>\n",
       "      <td>0</td>\n",
       "      <td>64</td>\n",
       "      <td>0</td>\n",
       "      <td>30</td>\n",
       "      <td>0</td>\n",
       "      <td>215000.0</td>\n",
       "      <td>3.8</td>\n",
       "      <td>128</td>\n",
       "      <td>1</td>\n",
       "      <td>1</td>\n",
       "      <td>250</td>\n",
       "      <td>0</td>\n",
       "    </tr>\n",
       "    <tr>\n",
       "      <th>215</th>\n",
       "      <td>73.0</td>\n",
       "      <td>0</td>\n",
       "      <td>582</td>\n",
       "      <td>0</td>\n",
       "      <td>35</td>\n",
       "      <td>1</td>\n",
       "      <td>203000.0</td>\n",
       "      <td>1.3</td>\n",
       "      <td>134</td>\n",
       "      <td>1</td>\n",
       "      <td>0</td>\n",
       "      <td>195</td>\n",
       "      <td>0</td>\n",
       "    </tr>\n",
       "  </tbody>\n",
       "</table>\n",
       "</div>"
      ],
      "text/plain": [
       "      age  anaemia  creatinine_phosphokinase  diabetes  ejection_fraction  \\\n",
       "14   49.0        1                        80         0                 30   \n",
       "276  70.0        0                       618         0                 35   \n",
       "68   70.0        0                       161         0                 25   \n",
       "169  70.0        0                       835         0                 35   \n",
       "126  46.0        0                       168         1                 17   \n",
       "197  65.0        0                       167         0                 30   \n",
       "209  49.0        0                       972         1                 35   \n",
       "106  55.0        0                       748         0                 45   \n",
       "282  42.0        0                        64         0                 30   \n",
       "215  73.0        0                       582         0                 35   \n",
       "\n",
       "     high_blood_pressure  platelets  serum_creatinine  serum_sodium  sex  \\\n",
       "14                     1   427000.0               1.0           138    0   \n",
       "276                    0   327000.0               1.1           142    0   \n",
       "68                     0   244000.0               1.2           142    0   \n",
       "169                    1   305000.0               0.8           133    0   \n",
       "126                    1   271000.0               2.1           124    0   \n",
       "197                    0   259000.0               0.8           138    0   \n",
       "209                    1   268000.0               0.8           130    0   \n",
       "106                    0   263000.0               1.3           137    1   \n",
       "282                    0   215000.0               3.8           128    1   \n",
       "215                    1   203000.0               1.3           134    1   \n",
       "\n",
       "     smoking  time  DEATH_EVENT  \n",
       "14         0    12            0  \n",
       "276        0   245            0  \n",
       "68         0    66            1  \n",
       "169        0   145            0  \n",
       "126        0   100            1  \n",
       "197        0   186            0  \n",
       "209        0   187            0  \n",
       "106        0    88            0  \n",
       "282        1   250            0  \n",
       "215        0   195            0  "
      ]
     },
     "execution_count": 571,
     "metadata": {},
     "output_type": "execute_result"
    }
   ],
   "source": [
    "df_wo_outliers_trim = df.copy()\n",
    "df_wo_outliers_trim.sample(10)"
   ]
  },
  {
   "cell_type": "markdown",
   "id": "71d50c01",
   "metadata": {},
   "source": [
    "### TRIMMING"
   ]
  },
  {
   "cell_type": "code",
   "execution_count": 572,
   "id": "fc18056d",
   "metadata": {},
   "outputs": [
    {
     "name": "stdout",
     "output_type": "stream",
     "text": [
      "0      582\n",
      "2      146\n",
      "3      111\n",
      "5       47\n",
      "6      246\n",
      "      ... \n",
      "291    320\n",
      "292    190\n",
      "293    103\n",
      "294     61\n",
      "298    196\n",
      "Name: creatinine_phosphokinase, Length: 224, dtype: int64\n",
      "0      20\n",
      "2      20\n",
      "3      20\n",
      "5      40\n",
      "6      15\n",
      "       ..\n",
      "291    35\n",
      "292    38\n",
      "293    35\n",
      "294    38\n",
      "298    45\n",
      "Name: ejection_fraction, Length: 224, dtype: int64\n",
      "0      265000.0\n",
      "2      162000.0\n",
      "3      210000.0\n",
      "5      204000.0\n",
      "6      127000.0\n",
      "         ...   \n",
      "291    133000.0\n",
      "292    382000.0\n",
      "293    179000.0\n",
      "294    155000.0\n",
      "298    395000.0\n",
      "Name: platelets, Length: 224, dtype: float64\n",
      "0      1.9\n",
      "2      1.3\n",
      "3      1.9\n",
      "5      2.1\n",
      "6      1.2\n",
      "      ... \n",
      "291    1.4\n",
      "292    1.0\n",
      "293    0.9\n",
      "294    1.1\n",
      "298    1.6\n",
      "Name: serum_creatinine, Length: 224, dtype: float64\n",
      "0      130\n",
      "2      129\n",
      "3      137\n",
      "5      132\n",
      "6      137\n",
      "      ... \n",
      "291    139\n",
      "292    140\n",
      "293    136\n",
      "294    143\n",
      "298    136\n",
      "Name: serum_sodium, Length: 224, dtype: int64\n"
     ]
    }
   ],
   "source": [
    "columns_to_clean = ['creatinine_phosphokinase', 'ejection_fraction', 'platelets', 'serum_creatinine', 'serum_sodium']\n",
    "\n",
    "for column in columns_to_clean:\n",
    "    Q1 = df_wo_outliers_trim[column].quantile(0.25)\n",
    "    Q3 = df_wo_outliers_trim[column].quantile(0.75)\n",
    "    IQR = Q3 - Q1\n",
    "    threshold = 1.5\n",
    "    outliers = df_wo_outliers_trim[(df_wo_outliers_trim[column] < Q1 - threshold * IQR) | (df_wo_outliers_trim[column] > Q3 + threshold * IQR)]\n",
    "    df_wo_outliers_trim = df_wo_outliers_trim.drop(outliers.index)\n",
    "\n",
    "for column in columns_to_clean:\n",
    "    print(df_wo_outliers_trim[column])"
   ]
  },
  {
   "cell_type": "code",
   "execution_count": 521,
   "id": "90ff70a7",
   "metadata": {},
   "outputs": [
    {
     "data": {
      "image/png": "[encoded data removed]",
      "text/plain": [
       "<Figure size 800x800 with 6 Axes>"
      ]
     },
     "metadata": {},
     "output_type": "display_data"
    }
   ],
   "source": [
    "fig, axes = plt.subplots(2, 3, figsize=(8, 8))\n",
    "\n",
    "features = ['age', 'creatinine_phosphokinase', 'ejection_fraction', 'platelets', 'serum_creatinine', 'serum_sodium']\n",
    "\n",
    "for i, ax in enumerate(axes.flatten()):\n",
    "    ax.boxplot(df_wo_outliers_trim[features[i]])\n",
    "    ax.set_title(features[i])\n",
    "\n",
    "plt.tight_layout()\n",
    "plt.show()"
   ]
  },
  {
   "cell_type": "code",
   "execution_count": 573,
   "id": "c8fe4ccd",
   "metadata": {},
   "outputs": [
    {
     "data": {
      "text/html": [
       "<div>\n",
       "<style scoped>\n",
       "    .dataframe tbody tr th:only-of-type {\n",
       "        vertical-align: middle;\n",
       "    }\n",
       "\n",
       "    .dataframe tbody tr th {\n",
       "        vertical-align: top;\n",
       "    }\n",
       "\n",
       "    .dataframe thead th {\n",
       "        text-align: right;\n",
       "    }\n",
       "</style>\n",
       "<table border=\"1\" class=\"dataframe\">\n",
       "  <thead>\n",
       "    <tr style=\"text-align: right;\">\n",
       "      <th></th>\n",
       "      <th>age</th>\n",
       "      <th>anaemia</th>\n",
       "      <th>creatinine_phosphokinase</th>\n",
       "      <th>diabetes</th>\n",
       "      <th>ejection_fraction</th>\n",
       "      <th>high_blood_pressure</th>\n",
       "      <th>platelets</th>\n",
       "      <th>serum_creatinine</th>\n",
       "      <th>serum_sodium</th>\n",
       "      <th>sex</th>\n",
       "      <th>smoking</th>\n",
       "      <th>time</th>\n",
       "      <th>DEATH_EVENT</th>\n",
       "    </tr>\n",
       "  </thead>\n",
       "  <tbody>\n",
       "    <tr>\n",
       "      <th>158</th>\n",
       "      <td>85.0</td>\n",
       "      <td>1</td>\n",
       "      <td>910</td>\n",
       "      <td>0</td>\n",
       "      <td>50</td>\n",
       "      <td>0</td>\n",
       "      <td>235000.00</td>\n",
       "      <td>1.30</td>\n",
       "      <td>134</td>\n",
       "      <td>1</td>\n",
       "      <td>0</td>\n",
       "      <td>121</td>\n",
       "      <td>0</td>\n",
       "    </tr>\n",
       "    <tr>\n",
       "      <th>128</th>\n",
       "      <td>61.0</td>\n",
       "      <td>0</td>\n",
       "      <td>248</td>\n",
       "      <td>0</td>\n",
       "      <td>30</td>\n",
       "      <td>1</td>\n",
       "      <td>267000.00</td>\n",
       "      <td>0.70</td>\n",
       "      <td>136</td>\n",
       "      <td>1</td>\n",
       "      <td>1</td>\n",
       "      <td>104</td>\n",
       "      <td>0</td>\n",
       "    </tr>\n",
       "    <tr>\n",
       "      <th>114</th>\n",
       "      <td>60.0</td>\n",
       "      <td>1</td>\n",
       "      <td>754</td>\n",
       "      <td>1</td>\n",
       "      <td>40</td>\n",
       "      <td>1</td>\n",
       "      <td>328000.00</td>\n",
       "      <td>1.20</td>\n",
       "      <td>126</td>\n",
       "      <td>1</td>\n",
       "      <td>0</td>\n",
       "      <td>91</td>\n",
       "      <td>0</td>\n",
       "    </tr>\n",
       "    <tr>\n",
       "      <th>197</th>\n",
       "      <td>65.0</td>\n",
       "      <td>0</td>\n",
       "      <td>167</td>\n",
       "      <td>0</td>\n",
       "      <td>30</td>\n",
       "      <td>0</td>\n",
       "      <td>259000.00</td>\n",
       "      <td>0.80</td>\n",
       "      <td>138</td>\n",
       "      <td>0</td>\n",
       "      <td>0</td>\n",
       "      <td>186</td>\n",
       "      <td>0</td>\n",
       "    </tr>\n",
       "    <tr>\n",
       "      <th>166</th>\n",
       "      <td>53.0</td>\n",
       "      <td>0</td>\n",
       "      <td>196</td>\n",
       "      <td>0</td>\n",
       "      <td>60</td>\n",
       "      <td>0</td>\n",
       "      <td>220000.00</td>\n",
       "      <td>0.70</td>\n",
       "      <td>133</td>\n",
       "      <td>1</td>\n",
       "      <td>1</td>\n",
       "      <td>134</td>\n",
       "      <td>0</td>\n",
       "    </tr>\n",
       "    <tr>\n",
       "      <th>86</th>\n",
       "      <td>55.0</td>\n",
       "      <td>0</td>\n",
       "      <td>47</td>\n",
       "      <td>0</td>\n",
       "      <td>35</td>\n",
       "      <td>1</td>\n",
       "      <td>173000.00</td>\n",
       "      <td>1.10</td>\n",
       "      <td>137</td>\n",
       "      <td>1</td>\n",
       "      <td>0</td>\n",
       "      <td>79</td>\n",
       "      <td>0</td>\n",
       "    </tr>\n",
       "    <tr>\n",
       "      <th>215</th>\n",
       "      <td>73.0</td>\n",
       "      <td>0</td>\n",
       "      <td>582</td>\n",
       "      <td>0</td>\n",
       "      <td>35</td>\n",
       "      <td>1</td>\n",
       "      <td>203000.00</td>\n",
       "      <td>1.30</td>\n",
       "      <td>134</td>\n",
       "      <td>1</td>\n",
       "      <td>0</td>\n",
       "      <td>195</td>\n",
       "      <td>0</td>\n",
       "    </tr>\n",
       "    <tr>\n",
       "      <th>40</th>\n",
       "      <td>70.0</td>\n",
       "      <td>0</td>\n",
       "      <td>582</td>\n",
       "      <td>0</td>\n",
       "      <td>20</td>\n",
       "      <td>1</td>\n",
       "      <td>263358.03</td>\n",
       "      <td>1.83</td>\n",
       "      <td>134</td>\n",
       "      <td>1</td>\n",
       "      <td>1</td>\n",
       "      <td>31</td>\n",
       "      <td>1</td>\n",
       "    </tr>\n",
       "    <tr>\n",
       "      <th>84</th>\n",
       "      <td>59.0</td>\n",
       "      <td>1</td>\n",
       "      <td>280</td>\n",
       "      <td>1</td>\n",
       "      <td>25</td>\n",
       "      <td>1</td>\n",
       "      <td>302000.00</td>\n",
       "      <td>1.00</td>\n",
       "      <td>141</td>\n",
       "      <td>0</td>\n",
       "      <td>0</td>\n",
       "      <td>78</td>\n",
       "      <td>1</td>\n",
       "    </tr>\n",
       "    <tr>\n",
       "      <th>274</th>\n",
       "      <td>60.0</td>\n",
       "      <td>1</td>\n",
       "      <td>257</td>\n",
       "      <td>1</td>\n",
       "      <td>30</td>\n",
       "      <td>0</td>\n",
       "      <td>150000.00</td>\n",
       "      <td>1.00</td>\n",
       "      <td>137</td>\n",
       "      <td>1</td>\n",
       "      <td>1</td>\n",
       "      <td>245</td>\n",
       "      <td>0</td>\n",
       "    </tr>\n",
       "    <tr>\n",
       "      <th>21</th>\n",
       "      <td>65.0</td>\n",
       "      <td>1</td>\n",
       "      <td>128</td>\n",
       "      <td>1</td>\n",
       "      <td>30</td>\n",
       "      <td>1</td>\n",
       "      <td>297000.00</td>\n",
       "      <td>1.60</td>\n",
       "      <td>136</td>\n",
       "      <td>0</td>\n",
       "      <td>0</td>\n",
       "      <td>20</td>\n",
       "      <td>1</td>\n",
       "    </tr>\n",
       "    <tr>\n",
       "      <th>170</th>\n",
       "      <td>51.0</td>\n",
       "      <td>1</td>\n",
       "      <td>582</td>\n",
       "      <td>1</td>\n",
       "      <td>35</td>\n",
       "      <td>0</td>\n",
       "      <td>263358.03</td>\n",
       "      <td>1.50</td>\n",
       "      <td>136</td>\n",
       "      <td>1</td>\n",
       "      <td>1</td>\n",
       "      <td>145</td>\n",
       "      <td>0</td>\n",
       "    </tr>\n",
       "    <tr>\n",
       "      <th>140</th>\n",
       "      <td>80.0</td>\n",
       "      <td>0</td>\n",
       "      <td>805</td>\n",
       "      <td>0</td>\n",
       "      <td>38</td>\n",
       "      <td>0</td>\n",
       "      <td>263358.03</td>\n",
       "      <td>1.10</td>\n",
       "      <td>134</td>\n",
       "      <td>1</td>\n",
       "      <td>0</td>\n",
       "      <td>109</td>\n",
       "      <td>1</td>\n",
       "    </tr>\n",
       "    <tr>\n",
       "      <th>85</th>\n",
       "      <td>51.0</td>\n",
       "      <td>0</td>\n",
       "      <td>78</td>\n",
       "      <td>0</td>\n",
       "      <td>50</td>\n",
       "      <td>0</td>\n",
       "      <td>406000.00</td>\n",
       "      <td>0.70</td>\n",
       "      <td>140</td>\n",
       "      <td>1</td>\n",
       "      <td>0</td>\n",
       "      <td>79</td>\n",
       "      <td>0</td>\n",
       "    </tr>\n",
       "    <tr>\n",
       "      <th>108</th>\n",
       "      <td>63.0</td>\n",
       "      <td>0</td>\n",
       "      <td>936</td>\n",
       "      <td>0</td>\n",
       "      <td>38</td>\n",
       "      <td>0</td>\n",
       "      <td>304000.00</td>\n",
       "      <td>1.10</td>\n",
       "      <td>133</td>\n",
       "      <td>1</td>\n",
       "      <td>1</td>\n",
       "      <td>88</td>\n",
       "      <td>0</td>\n",
       "    </tr>\n",
       "    <tr>\n",
       "      <th>235</th>\n",
       "      <td>77.0</td>\n",
       "      <td>1</td>\n",
       "      <td>109</td>\n",
       "      <td>0</td>\n",
       "      <td>50</td>\n",
       "      <td>1</td>\n",
       "      <td>406000.00</td>\n",
       "      <td>1.10</td>\n",
       "      <td>137</td>\n",
       "      <td>1</td>\n",
       "      <td>0</td>\n",
       "      <td>209</td>\n",
       "      <td>0</td>\n",
       "    </tr>\n",
       "    <tr>\n",
       "      <th>37</th>\n",
       "      <td>82.0</td>\n",
       "      <td>1</td>\n",
       "      <td>855</td>\n",
       "      <td>1</td>\n",
       "      <td>50</td>\n",
       "      <td>1</td>\n",
       "      <td>321000.00</td>\n",
       "      <td>1.00</td>\n",
       "      <td>145</td>\n",
       "      <td>0</td>\n",
       "      <td>0</td>\n",
       "      <td>30</td>\n",
       "      <td>1</td>\n",
       "    </tr>\n",
       "    <tr>\n",
       "      <th>278</th>\n",
       "      <td>50.0</td>\n",
       "      <td>1</td>\n",
       "      <td>1051</td>\n",
       "      <td>1</td>\n",
       "      <td>30</td>\n",
       "      <td>0</td>\n",
       "      <td>232000.00</td>\n",
       "      <td>0.70</td>\n",
       "      <td>136</td>\n",
       "      <td>0</td>\n",
       "      <td>0</td>\n",
       "      <td>246</td>\n",
       "      <td>0</td>\n",
       "    </tr>\n",
       "    <tr>\n",
       "      <th>58</th>\n",
       "      <td>49.0</td>\n",
       "      <td>0</td>\n",
       "      <td>789</td>\n",
       "      <td>0</td>\n",
       "      <td>20</td>\n",
       "      <td>1</td>\n",
       "      <td>319000.00</td>\n",
       "      <td>1.10</td>\n",
       "      <td>136</td>\n",
       "      <td>1</td>\n",
       "      <td>1</td>\n",
       "      <td>55</td>\n",
       "      <td>1</td>\n",
       "    </tr>\n",
       "    <tr>\n",
       "      <th>112</th>\n",
       "      <td>50.0</td>\n",
       "      <td>0</td>\n",
       "      <td>369</td>\n",
       "      <td>1</td>\n",
       "      <td>25</td>\n",
       "      <td>0</td>\n",
       "      <td>252000.00</td>\n",
       "      <td>1.60</td>\n",
       "      <td>136</td>\n",
       "      <td>1</td>\n",
       "      <td>0</td>\n",
       "      <td>90</td>\n",
       "      <td>0</td>\n",
       "    </tr>\n",
       "  </tbody>\n",
       "</table>\n",
       "</div>"
      ],
      "text/plain": [
       "      age  anaemia  creatinine_phosphokinase  diabetes  ejection_fraction  \\\n",
       "158  85.0        1                       910         0                 50   \n",
       "128  61.0        0                       248         0                 30   \n",
       "114  60.0        1                       754         1                 40   \n",
       "197  65.0        0                       167         0                 30   \n",
       "166  53.0        0                       196         0                 60   \n",
       "86   55.0        0                        47         0                 35   \n",
       "215  73.0        0                       582         0                 35   \n",
       "40   70.0        0                       582         0                 20   \n",
       "84   59.0        1                       280         1                 25   \n",
       "274  60.0        1                       257         1                 30   \n",
       "21   65.0        1                       128         1                 30   \n",
       "170  51.0        1                       582         1                 35   \n",
       "140  80.0        0                       805         0                 38   \n",
       "85   51.0        0                        78         0                 50   \n",
       "108  63.0        0                       936         0                 38   \n",
       "235  77.0        1                       109         0                 50   \n",
       "37   82.0        1                       855         1                 50   \n",
       "278  50.0        1                      1051         1                 30   \n",
       "58   49.0        0                       789         0                 20   \n",
       "112  50.0        0                       369         1                 25   \n",
       "\n",
       "     high_blood_pressure  platelets  serum_creatinine  serum_sodium  sex  \\\n",
       "158                    0  235000.00              1.30           134    1   \n",
       "128                    1  267000.00              0.70           136    1   \n",
       "114                    1  328000.00              1.20           126    1   \n",
       "197                    0  259000.00              0.80           138    0   \n",
       "166                    0  220000.00              0.70           133    1   \n",
       "86                     1  173000.00              1.10           137    1   \n",
       "215                    1  203000.00              1.30           134    1   \n",
       "40                     1  263358.03              1.83           134    1   \n",
       "84                     1  302000.00              1.00           141    0   \n",
       "274                    0  150000.00              1.00           137    1   \n",
       "21                     1  297000.00              1.60           136    0   \n",
       "170                    0  263358.03              1.50           136    1   \n",
       "140                    0  263358.03              1.10           134    1   \n",
       "85                     0  406000.00              0.70           140    1   \n",
       "108                    0  304000.00              1.10           133    1   \n",
       "235                    1  406000.00              1.10           137    1   \n",
       "37                     1  321000.00              1.00           145    0   \n",
       "278                    0  232000.00              0.70           136    0   \n",
       "58                     1  319000.00              1.10           136    1   \n",
       "112                    0  252000.00              1.60           136    1   \n",
       "\n",
       "     smoking  time  DEATH_EVENT  \n",
       "158        0   121            0  \n",
       "128        1   104            0  \n",
       "114        0    91            0  \n",
       "197        0   186            0  \n",
       "166        1   134            0  \n",
       "86         0    79            0  \n",
       "215        0   195            0  \n",
       "40         1    31            1  \n",
       "84         0    78            1  \n",
       "274        1   245            0  \n",
       "21         0    20            1  \n",
       "170        1   145            0  \n",
       "140        0   109            1  \n",
       "85         0    79            0  \n",
       "108        1    88            0  \n",
       "235        0   209            0  \n",
       "37         0    30            1  \n",
       "278        0   246            0  \n",
       "58         1    55            1  \n",
       "112        0    90            0  "
      ]
     },
     "execution_count": 573,
     "metadata": {},
     "output_type": "execute_result"
    }
   ],
   "source": [
    "df_wo_outliers_trim.sample(20)"
   ]
  },
  {
   "cell_type": "code",
   "execution_count": 574,
   "id": "fc0696bf",
   "metadata": {},
   "outputs": [
    {
     "name": "stdout",
     "output_type": "stream",
     "text": [
      "<class 'pandas.core.frame.DataFrame'>\n",
      "Index: 224 entries, 0 to 298\n",
      "Data columns (total 13 columns):\n",
      " #   Column                    Non-Null Count  Dtype  \n",
      "---  ------                    --------------  -----  \n",
      " 0   age                       224 non-null    float64\n",
      " 1   anaemia                   224 non-null    int64  \n",
      " 2   creatinine_phosphokinase  224 non-null    int64  \n",
      " 3   diabetes                  224 non-null    int64  \n",
      " 4   ejection_fraction         224 non-null    int64  \n",
      " 5   high_blood_pressure       224 non-null    int64  \n",
      " 6   platelets                 224 non-null    float64\n",
      " 7   serum_creatinine          224 non-null    float64\n",
      " 8   serum_sodium              224 non-null    int64  \n",
      " 9   sex                       224 non-null    int64  \n",
      " 10  smoking                   224 non-null    int64  \n",
      " 11  time                      224 non-null    int64  \n",
      " 12  DEATH_EVENT               224 non-null    int64  \n",
      "dtypes: float64(3), int64(10)\n",
      "memory usage: 24.5 KB\n"
     ]
    },
    {
     "data": {
      "text/plain": [
       "(2912, None)"
      ]
     },
     "execution_count": 574,
     "metadata": {},
     "output_type": "execute_result"
    }
   ],
   "source": [
    "df_wo_outliers_trim.size, df_wo_outliers_trim.info()"
   ]
  },
  {
   "cell_type": "code",
   "execution_count": 449,
   "id": "6752b3f4",
   "metadata": {},
   "outputs": [
    {
     "name": "stdout",
     "output_type": "stream",
     "text": [
      "--------------------------------------\n",
      "age: is NOT normally distributed\n",
      "--------------------------------------\n",
      "anaemia: is NOT normally distributed\n",
      "--------------------------------------\n",
      "creatinine_phosphokinase: is NOT normally distributed\n",
      "--------------------------------------\n",
      "diabetes: is NOT normally distributed\n",
      "--------------------------------------\n",
      "ejection_fraction: is NOT normally distributed\n",
      "--------------------------------------\n",
      "high_blood_pressure: is NOT normally distributed\n",
      "--------------------------------------\n",
      "platelets: is NOT normally distributed\n",
      "--------------------------------------\n",
      "serum_creatinine: is NOT normally distributed\n",
      "--------------------------------------\n",
      "serum_sodium: is NOT normally distributed\n",
      "--------------------------------------\n",
      "sex: is NOT normally distributed\n",
      "--------------------------------------\n",
      "smoking: is NOT normally distributed\n",
      "--------------------------------------\n",
      "time: is NOT normally distributed\n",
      "--------------------------------------\n",
      "DEATH_EVENT: is NOT normally distributed\n"
     ]
    }
   ],
   "source": [
    "for column in df_wo_outliers_trim.columns:\n",
    "    data = df_wo_outliers_trim[column]\n",
    "\n",
    "    # Shapiro-Wilk normality test\n",
    "    stat, p = shapiro(data)\n",
    "    alpha = 0.05\n",
    "    if p > alpha:\n",
    "        print(f'{column}: is NORMALLY distributed')\n",
    "    else:\n",
    "        print('--------------------------------------')\n",
    "        print(f'{column}: is NOT normally distributed')"
   ]
  },
  {
   "cell_type": "code",
   "execution_count": 494,
   "id": "711e747f",
   "metadata": {},
   "outputs": [
    {
     "data": {
      "image/png": "[encoded data removed]",
      "text/plain": [
       "<Figure size 1200x1200 with 16 Axes>"
      ]
     },
     "metadata": {},
     "output_type": "display_data"
    }
   ],
   "source": [
    "num_rows = 4\n",
    "num_col = 4\n",
    "\n",
    "fig, axes = plt.subplots(num_rows, num_col, figsize=(12,12))\n",
    "for i, column in enumerate(df_wo_outliers_trim.columns):\n",
    "    row = i // num_cols\n",
    "    col = i % num_cols\n",
    "    \n",
    "    data = df_wo_outliers_trim[column]\n",
    "    \n",
    "    axes[row, col].hist(data, bins=10, edgecolor = 'black')\n",
    "    axes[row, col].set_title(column)\n",
    "    \n",
    "plt.tight_layout()\n",
    "plt.show()"
   ]
  },
  {
   "cell_type": "markdown",
   "id": "0816ceb2",
   "metadata": {},
   "source": [
    "# ML model development"
   ]
  },
  {
   "cell_type": "markdown",
   "id": "6eacb97f",
   "metadata": {},
   "source": [
    "### Dividing the dataset into training and validation samples"
   ]
  },
  {
   "cell_type": "code",
   "execution_count": 575,
   "id": "77f5aa6e",
   "metadata": {},
   "outputs": [
    {
     "name": "stdout",
     "output_type": "stream",
     "text": [
      "x_train.shape = 209 rows, 12 cols\n",
      "x_valid.shape = 90 rows, 12 cols\n"
     ]
    }
   ],
   "source": [
    "x_train, x_valid = train_test_split(\n",
    "    df.drop(\"DEATH_EVENT\", axis=1), train_size=0.7, shuffle=True, random_state=1,\n",
    ")\n",
    "y_train, y_valid = train_test_split(\n",
    "    df[\"DEATH_EVENT\"], train_size=0.7, shuffle=True, random_state=1,\n",
    ")\n",
    "print(\"x_train.shape = {} rows, {} cols\".format(*x_train.shape))\n",
    "print(\"x_valid.shape = {} rows, {} cols\".format(*x_valid.shape))"
   ]
  },
  {
   "cell_type": "code",
   "execution_count": 576,
   "id": "8fd8f6e6",
   "metadata": {},
   "outputs": [
    {
     "name": "stdout",
     "output_type": "stream",
     "text": [
      "x_train.shape = 156 rows, 12 cols\n",
      "x_valid.shape = 68 rows, 12 cols\n"
     ]
    }
   ],
   "source": [
    "# Without outliers\n",
    "x_train_trim, x_valid_trim = train_test_split(\n",
    "    df_wo_outliers_trim.drop(\"DEATH_EVENT\", axis=1), train_size=0.7, shuffle=True, random_state=1,\n",
    ")\n",
    "y_train_trim, y_valid_trim = train_test_split(\n",
    "    df_wo_outliers_trim[\"DEATH_EVENT\"], train_size=0.7, shuffle=True, random_state=1,\n",
    ")\n",
    "print(\"x_train.shape = {} rows, {} cols\".format(*x_train_trim.shape))\n",
    "print(\"x_valid.shape = {} rows, {} cols\".format(*x_valid_trim.shape))"
   ]
  },
  {
   "cell_type": "code",
   "execution_count": 453,
   "id": "8fa7da2c",
   "metadata": {},
   "outputs": [],
   "source": [
    "# Function for model training and model quality assessment on training and validation samples.\n",
    "def fit_evaluate_model(estimator, x_train, y_train, x_valid, y_valid):\n",
    "    estimator.fit(x_train, y_train) \n",
    "    y_train_pred = estimator.predict_proba(x_train)[:, 1] \n",
    "    y_valid_pred = estimator.predict_proba(x_valid)[:, 1] \n",
    "\n",
    "    train_score = roc_auc_score(y_train, y_train_pred) \n",
    "    valid_score = roc_auc_score(y_valid, y_valid_pred)\n",
    "    print(f\"Model Score: train = {round(train_score, 4)}, valid = {round(valid_score, 4)}\")\n",
    "\n",
    "    return y_train_pred, y_valid_pred\n",
    "\n",
    "\n",
    "def plot_validation_curves(train_scores: np.array,\n",
    "                           valid_scores: np.array,\n",
    "                           figsize: Tuple[int, int] = (5, 5)):\n",
    "    \n",
    "    fig = plt.figure(figsize=figsize)\n",
    "\n",
    "    #plt.subplot\n",
    "    plt.title(\"Validation Curves\", size=15)\n",
    "    plt.plot(\n",
    "        range(train_scores.shape[0]),\n",
    "        np.mean(train_scores, axis=1),\n",
    "        label=\"train\",\n",
    "        linewidth=3,\n",
    "        marker=\"s\"\n",
    "    )\n",
    "    plt.fill_between(\n",
    "        x=range(train_scores.shape[0]),\n",
    "        y1=np.mean(train_scores, axis=1)-np.std(train_scores, axis=1),\n",
    "        y2=np.mean(train_scores, axis=1)+np.std(train_scores, axis=1),\n",
    "        alpha=0.25\n",
    "    )\n",
    "    #plt.subplot\n",
    "    plt.plot(\n",
    "        range(train_scores.shape[0]),\n",
    "        np.mean(valid_scores, axis=1),\n",
    "        label=\"valid\",\n",
    "        linewidth=3,\n",
    "        marker=\"s\"\n",
    "    )\n",
    "    plt.fill_between(\n",
    "        x=range(train_scores.shape[0]),\n",
    "        y1=np.mean(valid_scores, axis=1)-np.std(valid_scores, axis=1),\n",
    "        y2=np.mean(valid_scores, axis=1)+np.std(valid_scores, axis=1),\n",
    "        alpha=0.25\n",
    "    )\n",
    "    plt.legend(loc=\"best\", fontsize=14)\n",
    "    plt.ylabel(\"roc_auc\", size=15)"
   ]
  },
  {
   "cell_type": "markdown",
   "id": "d51c45da",
   "metadata": {},
   "source": [
    "## Linear model"
   ]
  },
  {
   "cell_type": "code",
   "execution_count": 595,
   "id": "044dfc8c",
   "metadata": {},
   "outputs": [
    {
     "name": "stdout",
     "output_type": "stream",
     "text": [
      "Model Score: train = 0.8967, valid = 0.8726\n"
     ]
    }
   ],
   "source": [
    "# Original dataframe\n",
    "pipeline = Pipeline(\n",
    "    steps=[\n",
    "        (\"scaling\", StandardScaler()),\n",
    "        (\"model\", LogisticRegression(random_state=27, C=1e-5)) \n",
    "    ]\n",
    ")\n",
    "y_train_pred, y_valid_pred = fit_evaluate_model(\n",
    "    pipeline, x_train, y_train, x_valid, y_valid\n",
    ")"
   ]
  },
  {
   "cell_type": "code",
   "execution_count": 606,
   "id": "93ef1a46",
   "metadata": {},
   "outputs": [
    {
     "name": "stdout",
     "output_type": "stream",
     "text": [
      "Model Score: train = 0.8706, valid = 0.9594\n"
     ]
    }
   ],
   "source": [
    "# TRIMMING outliers\n",
    "\n",
    "pipeline1 = Pipeline(\n",
    "    steps=[\n",
    "        (\"scaling\", StandardScaler()),\n",
    "        (\"model\", LogisticRegression(random_state=27, C=1e-5)) \n",
    "    ]\n",
    ")\n",
    "y_train_pred_trim, y_valid_pred_trim = fit_evaluate_model(\n",
    "    pipeline, x_train_trim, y_train_trim, x_valid_trim, y_valid_trim\n",
    ")"
   ]
  },
  {
   "cell_type": "markdown",
   "id": "a9eacc67",
   "metadata": {},
   "source": [
    "## Decision tree with maximum depth = 5"
   ]
  },
  {
   "cell_type": "code",
   "execution_count": 456,
   "id": "9d8d1ee7",
   "metadata": {},
   "outputs": [
    {
     "name": "stdout",
     "output_type": "stream",
     "text": [
      "Model Score: train = 0.9699, valid = 0.7987\n"
     ]
    }
   ],
   "source": [
    "# Original dataframe\n",
    "tree = DecisionTreeClassifier(\n",
    "    max_depth=5, random_state=27\n",
    ")\n",
    "y_train_pred, y_valid_pred = fit_evaluate_model(\n",
    "    tree, x_train, y_train, x_valid, y_valid\n",
    ")"
   ]
  },
  {
   "cell_type": "code",
   "execution_count": 457,
   "id": "fdcb6374",
   "metadata": {},
   "outputs": [
    {
     "name": "stdout",
     "output_type": "stream",
     "text": [
      "Model Score: train = 0.9895, valid = 0.8922\n"
     ]
    }
   ],
   "source": [
    "# TRIMMING outliers\n",
    "tree = DecisionTreeClassifier(\n",
    "    max_depth=5, random_state=27\n",
    ")\n",
    "y_train_pred_trim, y_valid_pred_trim = fit_evaluate_model(\n",
    "    tree, x_train_trim, y_train_trim, x_valid_trim, y_valid_trim)"
   ]
  },
  {
   "cell_type": "markdown",
   "id": "9e9b1c6a",
   "metadata": {},
   "source": [
    "## Bagging on decision trees"
   ]
  },
  {
   "cell_type": "markdown",
   "id": "1c236074",
   "metadata": {},
   "source": [
    "Original DataFrame"
   ]
  },
  {
   "cell_type": "code",
   "execution_count": 577,
   "id": "d667b871",
   "metadata": {},
   "outputs": [
    {
     "name": "stdout",
     "output_type": "stream",
     "text": [
      "Model Score: train = 0.9878, valid = 0.8942\n",
      "CPU times: user 50.9 ms, sys: 42.9 ms, total: 93.8 ms\n",
      "Wall time: 2.69 s\n"
     ]
    }
   ],
   "source": [
    "%%time\n",
    "\n",
    "bagging = BaggingClassifier(\n",
    "    estimator=DecisionTreeClassifier(max_depth=5, random_state=27), random_state=27, n_jobs=2\n",
    ")\n",
    "y_train_pred, y_valid_pred = fit_evaluate_model(\n",
    "    bagging, x_train, y_train, x_valid, y_valid\n",
    ")"
   ]
  },
  {
   "cell_type": "code",
   "execution_count": 461,
   "id": "84ffd339",
   "metadata": {},
   "outputs": [],
   "source": [
    "train_scores, valid_scores = validation_curve(\n",
    "    X=x_train,\n",
    "    y=y_train,\n",
    "    estimator=bagging,\n",
    "    param_range=[10, 25, 50, 100],\n",
    "    param_name=\"n_estimators\",\n",
    "    scoring=\"roc_auc\",\n",
    "    n_jobs=1,\n",
    "    cv=3,\n",
    ")"
   ]
  },
  {
   "cell_type": "code",
   "execution_count": 463,
   "id": "486574cd",
   "metadata": {},
   "outputs": [
    {
     "data": {
      "image/png": "[encoded data removed]",
      "text/plain": [
       "<Figure size 500x500 with 1 Axes>"
      ]
     },
     "metadata": {},
     "output_type": "display_data"
    }
   ],
   "source": [
    "plot_validation_curves(\n",
    "    train_scores, valid_scores\n",
    ")"
   ]
  },
  {
   "cell_type": "markdown",
   "id": "6ec5cd77",
   "metadata": {},
   "source": [
    "Change __max_depth__ to 10"
   ]
  },
  {
   "cell_type": "code",
   "execution_count": 464,
   "id": "fb40be1b",
   "metadata": {},
   "outputs": [
    {
     "name": "stdout",
     "output_type": "stream",
     "text": [
      "Model Score: train = 0.9983, valid = 0.8801\n",
      "CPU times: user 30.5 ms, sys: 5.1 ms, total: 35.5 ms\n",
      "Wall time: 88.4 ms\n"
     ]
    }
   ],
   "source": [
    "%%time\n",
    "\n",
    "bagging = BaggingClassifier(\n",
    "    estimator=DecisionTreeClassifier(max_depth=10, random_state=27), random_state=27, n_jobs=2\n",
    ")\n",
    "y_train_pred, y_valid_pred = fit_evaluate_model(\n",
    "    bagging, x_train, y_train, x_valid, y_valid\n",
    ")"
   ]
  },
  {
   "cell_type": "code",
   "execution_count": 465,
   "id": "d34d8714",
   "metadata": {},
   "outputs": [],
   "source": [
    "train_scores, valid_scores = validation_curve(\n",
    "    X=x_train,\n",
    "    y=y_train,\n",
    "    estimator=bagging,\n",
    "    param_range=[10, 25, 50, 100],\n",
    "    param_name=\"n_estimators\",\n",
    "    scoring=\"roc_auc\",\n",
    "    n_jobs=1,\n",
    "    cv=3,\n",
    ")"
   ]
  },
  {
   "cell_type": "code",
   "execution_count": 466,
   "id": "19fbdc3a",
   "metadata": {
    "scrolled": false
   },
   "outputs": [
    {
     "data": {
      "image/png": "[encoded data removed]",
      "text/plain": [
       "<Figure size 500x500 with 1 Axes>"
      ]
     },
     "metadata": {},
     "output_type": "display_data"
    }
   ],
   "source": [
    "plot_validation_curves(\n",
    "    train_scores, valid_scores\n",
    ")"
   ]
  },
  {
   "cell_type": "markdown",
   "id": "9af6fed5",
   "metadata": {},
   "source": [
    "### INTERPRETATION"
   ]
  },
  {
   "cell_type": "markdown",
   "id": "185f9a4a",
   "metadata": {},
   "source": [
    "Increasing the `max_depth` hyperparameter from 5 to 10 in the `DecisionTreeClassifier` within the `BaggingClassifier` has led to changes in the model's performance.\n",
    "\n",
    "The model with `max_depth=10` achieved a higher __training__ performance with a model score of 0.9977 compared to the previous model with `max_depth=5`, which had a score of 0.988. This indicates that the model with a higher `max_depth` is able to better fit the training data.\n",
    "\n",
    "__However__, the validation performance of the model with `max_depth=10` decreased slightly, with a model score of 0.8939 compared to the previous model's score of 0.9123. This suggests that the increase in `max_depth` may have caused the model to become more complex and overfit the training data, resulting in reduced generalization ability.\n",
    "\n",
    "It is important to note that the validation score provides an estimate of how well the model is likely to perform on unseen data. In this case, the model with `max_depth=10` may not generalize as well to new data compared to the model with `max_depth=5`, as indicated by the lower validation score."
   ]
  },
  {
   "cell_type": "markdown",
   "id": "7c9e5ee0",
   "metadata": {},
   "source": [
    "TRIMMING outliers"
   ]
  },
  {
   "cell_type": "code",
   "execution_count": 578,
   "id": "97e10140",
   "metadata": {},
   "outputs": [
    {
     "name": "stdout",
     "output_type": "stream",
     "text": [
      "Model Score: train = 0.9958, valid = 0.9234\n",
      "CPU times: user 41.8 ms, sys: 8.86 ms, total: 50.7 ms\n",
      "Wall time: 174 ms\n"
     ]
    }
   ],
   "source": [
    "%%time\n",
    "bagging1 = BaggingClassifier(\n",
    "    estimator=DecisionTreeClassifier(max_depth=5, random_state=27), random_state=27, n_jobs=2\n",
    ")\n",
    "y_train_pred_trim, y_valid_pred_trim = fit_evaluate_model(\n",
    "    bagging, x_train_trim, y_train_trim, x_valid_trim, y_valid_trim\n",
    ")"
   ]
  },
  {
   "cell_type": "code",
   "execution_count": 579,
   "id": "a2036be1",
   "metadata": {},
   "outputs": [
    {
     "data": {
      "text/html": [
       "<style>#sk-container-id-3 {color: black;}#sk-container-id-3 pre{padding: 0;}#sk-container-id-3 div.sk-toggleable {background-color: white;}#sk-container-id-3 label.sk-toggleable__label {cursor: pointer;display: block;width: 100%;margin-bottom: 0;padding: 0.3em;box-sizing: border-box;text-align: center;}#sk-container-id-3 label.sk-toggleable__label-arrow:before {content: \"▸\";float: left;margin-right: 0.25em;color: #696969;}#sk-container-id-3 label.sk-toggleable__label-arrow:hover:before {color: black;}#sk-container-id-3 div.sk-estimator:hover label.sk-toggleable__label-arrow:before {color: black;}#sk-container-id-3 div.sk-toggleable__content {max-height: 0;max-width: 0;overflow: hidden;text-align: left;background-color: #f0f8ff;}#sk-container-id-3 div.sk-toggleable__content pre {margin: 0.2em;color: black;border-radius: 0.25em;background-color: #f0f8ff;}#sk-container-id-3 input.sk-toggleable__control:checked~div.sk-toggleable__content {max-height: 200px;max-width: 100%;overflow: auto;}#sk-container-id-3 input.sk-toggleable__control:checked~label.sk-toggleable__label-arrow:before {content: \"▾\";}#sk-container-id-3 div.sk-estimator input.sk-toggleable__control:checked~label.sk-toggleable__label {background-color: #d4ebff;}#sk-container-id-3 div.sk-label input.sk-toggleable__control:checked~label.sk-toggleable__label {background-color: #d4ebff;}#sk-container-id-3 input.sk-hidden--visually {border: 0;clip: rect(1px 1px 1px 1px);clip: rect(1px, 1px, 1px, 1px);height: 1px;margin: -1px;overflow: hidden;padding: 0;position: absolute;width: 1px;}#sk-container-id-3 div.sk-estimator {font-family: monospace;background-color: #f0f8ff;border: 1px dotted black;border-radius: 0.25em;box-sizing: border-box;margin-bottom: 0.5em;}#sk-container-id-3 div.sk-estimator:hover {background-color: #d4ebff;}#sk-container-id-3 div.sk-parallel-item::after {content: \"\";width: 100%;border-bottom: 1px solid gray;flex-grow: 1;}#sk-container-id-3 div.sk-label:hover label.sk-toggleable__label {background-color: #d4ebff;}#sk-container-id-3 div.sk-serial::before {content: \"\";position: absolute;border-left: 1px solid gray;box-sizing: border-box;top: 0;bottom: 0;left: 50%;z-index: 0;}#sk-container-id-3 div.sk-serial {display: flex;flex-direction: column;align-items: center;background-color: white;padding-right: 0.2em;padding-left: 0.2em;position: relative;}#sk-container-id-3 div.sk-item {position: relative;z-index: 1;}#sk-container-id-3 div.sk-parallel {display: flex;align-items: stretch;justify-content: center;background-color: white;position: relative;}#sk-container-id-3 div.sk-item::before, #sk-container-id-3 div.sk-parallel-item::before {content: \"\";position: absolute;border-left: 1px solid gray;box-sizing: border-box;top: 0;bottom: 0;left: 50%;z-index: -1;}#sk-container-id-3 div.sk-parallel-item {display: flex;flex-direction: column;z-index: 1;position: relative;background-color: white;}#sk-container-id-3 div.sk-parallel-item:first-child::after {align-self: flex-end;width: 50%;}#sk-container-id-3 div.sk-parallel-item:last-child::after {align-self: flex-start;width: 50%;}#sk-container-id-3 div.sk-parallel-item:only-child::after {width: 0;}#sk-container-id-3 div.sk-dashed-wrapped {border: 1px dashed gray;margin: 0 0.4em 0.5em 0.4em;box-sizing: border-box;padding-bottom: 0.4em;background-color: white;}#sk-container-id-3 div.sk-label label {font-family: monospace;font-weight: bold;display: inline-block;line-height: 1.2em;}#sk-container-id-3 div.sk-label-container {text-align: center;}#sk-container-id-3 div.sk-container {/* jupyter's `normalize.less` sets `[hidden] { display: none; }` but bootstrap.min.css set `[hidden] { display: none !important; }` so we also need the `!important` here to be able to override the default hidden behavior on the sphinx rendered scikit-learn.org. See: https://github.com/scikit-learn/scikit-learn/issues/21755 */display: inline-block !important;position: relative;}#sk-container-id-3 div.sk-text-repr-fallback {display: none;}</style><div id=\"sk-container-id-3\" class=\"sk-top-container\"><div class=\"sk-text-repr-fallback\"><pre>BaggingClassifier(estimator=DecisionTreeClassifier(max_depth=5,\n",
       "                                                   random_state=27),\n",
       "                  n_jobs=2, random_state=27)</pre><b>In a Jupyter environment, please rerun this cell to show the HTML representation or trust the notebook. <br />On GitHub, the HTML representation is unable to render, please try loading this page with nbviewer.org.</b></div><div class=\"sk-container\" hidden><div class=\"sk-item sk-dashed-wrapped\"><div class=\"sk-label-container\"><div class=\"sk-label sk-toggleable\"><input class=\"sk-toggleable__control sk-hidden--visually\" id=\"sk-estimator-id-7\" type=\"checkbox\" ><label for=\"sk-estimator-id-7\" class=\"sk-toggleable__label sk-toggleable__label-arrow\">BaggingClassifier</label><div class=\"sk-toggleable__content\"><pre>BaggingClassifier(estimator=DecisionTreeClassifier(max_depth=5,\n",
       "                                                   random_state=27),\n",
       "                  n_jobs=2, random_state=27)</pre></div></div></div><div class=\"sk-parallel\"><div class=\"sk-parallel-item\"><div class=\"sk-item\"><div class=\"sk-label-container\"><div class=\"sk-label sk-toggleable\"><input class=\"sk-toggleable__control sk-hidden--visually\" id=\"sk-estimator-id-8\" type=\"checkbox\" ><label for=\"sk-estimator-id-8\" class=\"sk-toggleable__label sk-toggleable__label-arrow\">estimator: DecisionTreeClassifier</label><div class=\"sk-toggleable__content\"><pre>DecisionTreeClassifier(max_depth=5, random_state=27)</pre></div></div></div><div class=\"sk-serial\"><div class=\"sk-item\"><div class=\"sk-estimator sk-toggleable\"><input class=\"sk-toggleable__control sk-hidden--visually\" id=\"sk-estimator-id-9\" type=\"checkbox\" ><label for=\"sk-estimator-id-9\" class=\"sk-toggleable__label sk-toggleable__label-arrow\">DecisionTreeClassifier</label><div class=\"sk-toggleable__content\"><pre>DecisionTreeClassifier(max_depth=5, random_state=27)</pre></div></div></div></div></div></div></div></div></div></div>"
      ],
      "text/plain": [
       "BaggingClassifier(estimator=DecisionTreeClassifier(max_depth=5,\n",
       "                                                   random_state=27),\n",
       "                  n_jobs=2, random_state=27)"
      ]
     },
     "execution_count": 579,
     "metadata": {},
     "output_type": "execute_result"
    }
   ],
   "source": [
    "bagging1.fit(x_train_trim, y_train_trim)"
   ]
  },
  {
   "cell_type": "markdown",
   "id": "badd617b",
   "metadata": {},
   "source": [
    "## RANDOM FOREST"
   ]
  },
  {
   "cell_type": "code",
   "execution_count": 468,
   "id": "6d73a9ef",
   "metadata": {},
   "outputs": [
    {
     "name": "stdout",
     "output_type": "stream",
     "text": [
      "Model Score: train = 1.0, valid = 0.9222\n"
     ]
    }
   ],
   "source": [
    "# Original DataFrame\n",
    "forest = RandomForestClassifier(\n",
    "    random_state=27\n",
    ")\n",
    "y_train_pred, y_valid_pred = fit_evaluate_model(\n",
    "    forest, x_train, y_train, x_valid, y_valid\n",
    ")"
   ]
  },
  {
   "cell_type": "code",
   "execution_count": 469,
   "id": "5fd1527b",
   "metadata": {},
   "outputs": [],
   "source": [
    "train_scores, valid_scores = validation_curve(\n",
    "    X=x_train,\n",
    "    y=y_train,\n",
    "    estimator=forest,\n",
    "    param_range=range(2, 15),\n",
    "    param_name=\"max_depth\",\n",
    "    scoring=\"roc_auc\",\n",
    "    n_jobs=1,\n",
    "    cv=3,\n",
    ")"
   ]
  },
  {
   "cell_type": "code",
   "execution_count": 470,
   "id": "6f4e7caf",
   "metadata": {
    "scrolled": true
   },
   "outputs": [
    {
     "data": {
      "image/png": "[encoded data removed]",
      "text/plain": [
       "<Figure size 500x500 with 1 Axes>"
      ]
     },
     "metadata": {},
     "output_type": "display_data"
    }
   ],
   "source": [
    "plot_validation_curves(\n",
    "    train_scores, valid_scores\n",
    ")"
   ]
  },
  {
   "cell_type": "code",
   "execution_count": 471,
   "id": "e4682b01",
   "metadata": {},
   "outputs": [
    {
     "name": "stdout",
     "output_type": "stream",
     "text": [
      "Model Score: train = 1.0, valid = 0.9344\n"
     ]
    }
   ],
   "source": [
    "# TRIMMING outliers\n",
    "forest = RandomForestClassifier(\n",
    "    random_state=27\n",
    ")\n",
    "y_train_pred, y_valid_pred = fit_evaluate_model(\n",
    "    forest, x_train_trim, y_train_trim, x_valid_trim, y_valid_trim\n",
    ")"
   ]
  },
  {
   "cell_type": "code",
   "execution_count": 472,
   "id": "743d4029",
   "metadata": {},
   "outputs": [],
   "source": [
    "train_scores_trim, valid_scores_trim = validation_curve(\n",
    "    X=x_train_trim,\n",
    "    y=y_train_trim,\n",
    "    estimator=forest,\n",
    "    param_range=range(2, 15),\n",
    "    param_name=\"max_depth\",\n",
    "    scoring=\"roc_auc\",\n",
    "    n_jobs=1,\n",
    "    cv=3,\n",
    ")"
   ]
  },
  {
   "cell_type": "code",
   "execution_count": 473,
   "id": "8098fb2e",
   "metadata": {},
   "outputs": [
    {
     "data": {
      "image/png": "[encoded data removed]",
      "text/plain": [
       "<Figure size 500x500 with 1 Axes>"
      ]
     },
     "metadata": {},
     "output_type": "display_data"
    }
   ],
   "source": [
    "plot_validation_curves(\n",
    "    train_scores_trim, valid_scores_trim\n",
    ")"
   ]
  },
  {
   "cell_type": "markdown",
   "id": "3b1531fd",
   "metadata": {},
   "source": [
    "# ML model with selected features"
   ]
  },
  {
   "cell_type": "code",
   "execution_count": 109,
   "id": "45d8d0c0",
   "metadata": {},
   "outputs": [
    {
     "name": "stdout",
     "output_type": "stream",
     "text": [
      "x_train.shape = 209 rows, 5 cols\n",
      "x_valid.shape = 90 rows, 5 cols\n"
     ]
    }
   ],
   "source": [
    "selected_features = ['anaemia', 'diabetes', 'high_blood_pressure', 'sex', 'smoking']\n",
    "x_train, x_valid, y_train, y_valid = train_test_split(\n",
    "    df[selected_features], df[\"DEATH_EVENT\"], train_size=0.7, shuffle=True, random_state=1\n",
    ")\n",
    "print(\"x_train.shape = {} rows, {} cols\".format(*x_train.shape))\n",
    "print(\"x_valid.shape = {} rows, {} cols\".format(*x_valid.shape))"
   ]
  },
  {
   "cell_type": "code",
   "execution_count": 110,
   "id": "d1aa4ad2",
   "metadata": {},
   "outputs": [
    {
     "name": "stdout",
     "output_type": "stream",
     "text": [
      "Model Score: train = 0.545, valid = 0.5799\n"
     ]
    }
   ],
   "source": [
    "# Linear model\n",
    "pipeline = Pipeline(\n",
    "    steps=[\n",
    "        (\"scaling\", StandardScaler()),\n",
    "        (\"model\", LogisticRegression(random_state=27, C=1e-5)) \n",
    "    ]\n",
    ")\n",
    "y_train_pred, y_valid_pred = fit_evaluate_model(\n",
    "    pipeline, x_train, y_train, x_valid, y_valid\n",
    ")"
   ]
  },
  {
   "cell_type": "code",
   "execution_count": 111,
   "id": "2ad06040",
   "metadata": {},
   "outputs": [
    {
     "name": "stdout",
     "output_type": "stream",
     "text": [
      "Model Score: train = 0.687, valid = 0.5775\n"
     ]
    }
   ],
   "source": [
    "# Random forest \n",
    "forest = RandomForestClassifier(\n",
    "    random_state=27\n",
    ")\n",
    "y_train_pred, y_valid_pred = fit_evaluate_model(\n",
    "    forest, x_train, y_train, x_valid, y_valid\n",
    ")"
   ]
  },
  {
   "cell_type": "markdown",
   "id": "cc92ea11",
   "metadata": {},
   "source": [
    "### INTERPRETATION\n",
    "\n",
    "It's seen that as the number of features decreases, the performance of the ML model deteriorates"
   ]
  },
  {
   "cell_type": "markdown",
   "id": "487c15e1",
   "metadata": {},
   "source": [
    "### Check the quality"
   ]
  },
  {
   "cell_type": "code",
   "execution_count": 593,
   "id": "1603b907",
   "metadata": {},
   "outputs": [
    {
     "data": {
      "text/html": [
       "<div>\n",
       "<style scoped>\n",
       "    .dataframe tbody tr th:only-of-type {\n",
       "        vertical-align: middle;\n",
       "    }\n",
       "\n",
       "    .dataframe tbody tr th {\n",
       "        vertical-align: top;\n",
       "    }\n",
       "\n",
       "    .dataframe thead th {\n",
       "        text-align: right;\n",
       "    }\n",
       "</style>\n",
       "<table border=\"1\" class=\"dataframe\">\n",
       "  <thead>\n",
       "    <tr style=\"text-align: right;\">\n",
       "      <th></th>\n",
       "      <th>age</th>\n",
       "      <th>anaemia</th>\n",
       "      <th>creatinine_phosphokinase</th>\n",
       "      <th>diabetes</th>\n",
       "      <th>ejection_fraction</th>\n",
       "      <th>high_blood_pressure</th>\n",
       "      <th>platelets</th>\n",
       "      <th>serum_creatinine</th>\n",
       "      <th>serum_sodium</th>\n",
       "      <th>sex</th>\n",
       "      <th>smoking</th>\n",
       "      <th>time</th>\n",
       "      <th>DEATH_EVENT</th>\n",
       "    </tr>\n",
       "  </thead>\n",
       "  <tbody>\n",
       "    <tr>\n",
       "      <th>0</th>\n",
       "      <td>75.0</td>\n",
       "      <td>0</td>\n",
       "      <td>582</td>\n",
       "      <td>0</td>\n",
       "      <td>20</td>\n",
       "      <td>1</td>\n",
       "      <td>265000.0</td>\n",
       "      <td>1.9</td>\n",
       "      <td>130</td>\n",
       "      <td>1</td>\n",
       "      <td>0</td>\n",
       "      <td>4</td>\n",
       "      <td>1</td>\n",
       "    </tr>\n",
       "  </tbody>\n",
       "</table>\n",
       "</div>"
      ],
      "text/plain": [
       "    age  anaemia  creatinine_phosphokinase  diabetes  ejection_fraction  \\\n",
       "0  75.0        0                       582         0                 20   \n",
       "\n",
       "   high_blood_pressure  platelets  serum_creatinine  serum_sodium  sex  \\\n",
       "0                    1   265000.0               1.9           130    1   \n",
       "\n",
       "   smoking  time  DEATH_EVENT  \n",
       "0        0     4            1  "
      ]
     },
     "execution_count": 593,
     "metadata": {},
     "output_type": "execute_result"
    }
   ],
   "source": [
    "df.head(1)"
   ]
  },
  {
   "cell_type": "code",
   "execution_count": 594,
   "id": "cdfdc8e9",
   "metadata": {},
   "outputs": [
    {
     "data": {
      "text/html": [
       "<div>\n",
       "<style scoped>\n",
       "    .dataframe tbody tr th:only-of-type {\n",
       "        vertical-align: middle;\n",
       "    }\n",
       "\n",
       "    .dataframe tbody tr th {\n",
       "        vertical-align: top;\n",
       "    }\n",
       "\n",
       "    .dataframe thead th {\n",
       "        text-align: right;\n",
       "    }\n",
       "</style>\n",
       "<table border=\"1\" class=\"dataframe\">\n",
       "  <thead>\n",
       "    <tr style=\"text-align: right;\">\n",
       "      <th></th>\n",
       "      <th>age</th>\n",
       "      <th>anaemia</th>\n",
       "      <th>creatinine_phosphokinase</th>\n",
       "      <th>diabetes</th>\n",
       "      <th>ejection_fraction</th>\n",
       "      <th>high_blood_pressure</th>\n",
       "      <th>platelets</th>\n",
       "      <th>serum_creatinine</th>\n",
       "      <th>serum_sodium</th>\n",
       "      <th>sex</th>\n",
       "      <th>smoking</th>\n",
       "      <th>time</th>\n",
       "      <th>DEATH_EVENT</th>\n",
       "    </tr>\n",
       "  </thead>\n",
       "  <tbody>\n",
       "    <tr>\n",
       "      <th>298</th>\n",
       "      <td>50.0</td>\n",
       "      <td>0</td>\n",
       "      <td>196</td>\n",
       "      <td>0</td>\n",
       "      <td>45</td>\n",
       "      <td>0</td>\n",
       "      <td>395000.0</td>\n",
       "      <td>1.6</td>\n",
       "      <td>136</td>\n",
       "      <td>1</td>\n",
       "      <td>1</td>\n",
       "      <td>285</td>\n",
       "      <td>0</td>\n",
       "    </tr>\n",
       "  </tbody>\n",
       "</table>\n",
       "</div>"
      ],
      "text/plain": [
       "      age  anaemia  creatinine_phosphokinase  diabetes  ejection_fraction  \\\n",
       "298  50.0        0                       196         0                 45   \n",
       "\n",
       "     high_blood_pressure  platelets  serum_creatinine  serum_sodium  sex  \\\n",
       "298                    0   395000.0               1.6           136    1   \n",
       "\n",
       "     smoking  time  DEATH_EVENT  \n",
       "298        1   285            0  "
      ]
     },
     "execution_count": 594,
     "metadata": {},
     "output_type": "execute_result"
    }
   ],
   "source": [
    "df.tail(1)"
   ]
  },
  {
   "cell_type": "code",
   "execution_count": 586,
   "id": "ddeed9fd",
   "metadata": {},
   "outputs": [],
   "source": [
    "data_1 = {\n",
    "'age': [75.0],\n",
    "'anaemia':[0],\n",
    "'creatinine_phosphokinase':[582],\n",
    "'diabetes':[0],\n",
    "'ejection_fraction' :[20],\n",
    "'high_blood_pressure':[1],\n",
    "'platelets':[265000.0],\n",
    "'serum_creatinine':[1.9],\n",
    "'serum_sodium' :[130],\n",
    "'sex':[1],\n",
    "'smoking':[0],\n",
    "'time': [4]\n",
    "}\n",
    "\n",
    "data_298 = {\n",
    "'age': [50.0],\n",
    "'anaemia':[0],\n",
    "'creatinine_phosphokinase':[196],\n",
    "'diabetes':[0],\n",
    "'ejection_fraction' :[45],\n",
    "'high_blood_pressure':[0],\n",
    "'platelets':[395000.0],\n",
    "'serum_creatinine':[1.6],\n",
    "'serum_sodium' :[136],\n",
    "'sex':[1],\n",
    "'smoking':[1],\n",
    "'time': [285]\n",
    "}"
   ]
  },
  {
   "cell_type": "code",
   "execution_count": 587,
   "id": "d7aca271",
   "metadata": {},
   "outputs": [
    {
     "data": {
      "text/html": [
       "<div>\n",
       "<style scoped>\n",
       "    .dataframe tbody tr th:only-of-type {\n",
       "        vertical-align: middle;\n",
       "    }\n",
       "\n",
       "    .dataframe tbody tr th {\n",
       "        vertical-align: top;\n",
       "    }\n",
       "\n",
       "    .dataframe thead th {\n",
       "        text-align: right;\n",
       "    }\n",
       "</style>\n",
       "<table border=\"1\" class=\"dataframe\">\n",
       "  <thead>\n",
       "    <tr style=\"text-align: right;\">\n",
       "      <th></th>\n",
       "      <th>age</th>\n",
       "      <th>anaemia</th>\n",
       "      <th>creatinine_phosphokinase</th>\n",
       "      <th>diabetes</th>\n",
       "      <th>ejection_fraction</th>\n",
       "      <th>high_blood_pressure</th>\n",
       "      <th>platelets</th>\n",
       "      <th>serum_creatinine</th>\n",
       "      <th>serum_sodium</th>\n",
       "      <th>sex</th>\n",
       "      <th>smoking</th>\n",
       "      <th>time</th>\n",
       "    </tr>\n",
       "  </thead>\n",
       "  <tbody>\n",
       "    <tr>\n",
       "      <th>0</th>\n",
       "      <td>75.0</td>\n",
       "      <td>0</td>\n",
       "      <td>582</td>\n",
       "      <td>0</td>\n",
       "      <td>20</td>\n",
       "      <td>1</td>\n",
       "      <td>265000.0</td>\n",
       "      <td>1.9</td>\n",
       "      <td>130</td>\n",
       "      <td>1</td>\n",
       "      <td>0</td>\n",
       "      <td>4</td>\n",
       "    </tr>\n",
       "  </tbody>\n",
       "</table>\n",
       "</div>"
      ],
      "text/plain": [
       "    age  anaemia  creatinine_phosphokinase  diabetes  ejection_fraction  \\\n",
       "0  75.0        0                       582         0                 20   \n",
       "\n",
       "   high_blood_pressure  platelets  serum_creatinine  serum_sodium  sex  \\\n",
       "0                    1   265000.0               1.9           130    1   \n",
       "\n",
       "   smoking  time  \n",
       "0        0     4  "
      ]
     },
     "execution_count": 587,
     "metadata": {},
     "output_type": "execute_result"
    }
   ],
   "source": [
    "df_new_1 = pd.DataFrame(data_1)\n",
    "df_new_1"
   ]
  },
  {
   "cell_type": "code",
   "execution_count": 588,
   "id": "385596e9",
   "metadata": {},
   "outputs": [
    {
     "name": "stdout",
     "output_type": "stream",
     "text": [
      "Prediction for new case: [1]\n"
     ]
    }
   ],
   "source": [
    "prediction = bagging1.predict(df_new_1)\n",
    "print(\"Prediction for new case:\", prediction)"
   ]
  },
  {
   "cell_type": "code",
   "execution_count": 590,
   "id": "938cf5d1",
   "metadata": {},
   "outputs": [
    {
     "data": {
      "text/html": [
       "<div>\n",
       "<style scoped>\n",
       "    .dataframe tbody tr th:only-of-type {\n",
       "        vertical-align: middle;\n",
       "    }\n",
       "\n",
       "    .dataframe tbody tr th {\n",
       "        vertical-align: top;\n",
       "    }\n",
       "\n",
       "    .dataframe thead th {\n",
       "        text-align: right;\n",
       "    }\n",
       "</style>\n",
       "<table border=\"1\" class=\"dataframe\">\n",
       "  <thead>\n",
       "    <tr style=\"text-align: right;\">\n",
       "      <th></th>\n",
       "      <th>age</th>\n",
       "      <th>anaemia</th>\n",
       "      <th>creatinine_phosphokinase</th>\n",
       "      <th>diabetes</th>\n",
       "      <th>ejection_fraction</th>\n",
       "      <th>high_blood_pressure</th>\n",
       "      <th>platelets</th>\n",
       "      <th>serum_creatinine</th>\n",
       "      <th>serum_sodium</th>\n",
       "      <th>sex</th>\n",
       "      <th>smoking</th>\n",
       "      <th>time</th>\n",
       "    </tr>\n",
       "  </thead>\n",
       "  <tbody>\n",
       "    <tr>\n",
       "      <th>0</th>\n",
       "      <td>50.0</td>\n",
       "      <td>0</td>\n",
       "      <td>196</td>\n",
       "      <td>0</td>\n",
       "      <td>45</td>\n",
       "      <td>0</td>\n",
       "      <td>395000.0</td>\n",
       "      <td>1.6</td>\n",
       "      <td>136</td>\n",
       "      <td>1</td>\n",
       "      <td>1</td>\n",
       "      <td>285</td>\n",
       "    </tr>\n",
       "  </tbody>\n",
       "</table>\n",
       "</div>"
      ],
      "text/plain": [
       "    age  anaemia  creatinine_phosphokinase  diabetes  ejection_fraction  \\\n",
       "0  50.0        0                       196         0                 45   \n",
       "\n",
       "   high_blood_pressure  platelets  serum_creatinine  serum_sodium  sex  \\\n",
       "0                    0   395000.0               1.6           136    1   \n",
       "\n",
       "   smoking  time  \n",
       "0        1   285  "
      ]
     },
     "execution_count": 590,
     "metadata": {},
     "output_type": "execute_result"
    }
   ],
   "source": [
    "df_new_298 = pd.DataFrame(data_298)\n",
    "df_new_298"
   ]
  },
  {
   "cell_type": "code",
   "execution_count": 610,
   "id": "ba72398d",
   "metadata": {},
   "outputs": [
    {
     "name": "stdout",
     "output_type": "stream",
     "text": [
      "Prediction for new case: [0]\n"
     ]
    }
   ],
   "source": [
    "prediction = bagging1.predict(df_new_298)\n",
    "print(\"Prediction for new case:\", prediction)"
   ]
  },
  {
   "cell_type": "code",
   "execution_count": 611,
   "id": "cc9694cd",
   "metadata": {},
   "outputs": [
    {
     "name": "stdout",
     "output_type": "stream",
     "text": [
      "Prediction for new case: [0]\n"
     ]
    }
   ],
   "source": [
    "prediction = pipeline1.predict(df_new_298) # Linear model using Logistic regression\n",
    "print(\"Prediction for new case:\", prediction)"
   ]
  },
  {
   "cell_type": "code",
   "execution_count": 612,
   "id": "6789c7a7",
   "metadata": {},
   "outputs": [
    {
     "name": "stdout",
     "output_type": "stream",
     "text": [
      "Prediction for new case: [0]\n"
     ]
    }
   ],
   "source": [
    "prediction = pipeline1.predict(df_new_1) # Linear model using Logistic regression\n",
    "print(\"Prediction for new case:\", prediction)"
   ]
  }
 ],
 "metadata": {
  "kernelspec": {
   "display_name": "Python 3 (ipykernel)",
   "language": "python",
   "name": "python3"
  },
  "language_info": {
   "codemirror_mode": {
    "name": "ipython",
    "version": 3
   },
   "file_extension": ".py",
   "mimetype": "text/x-python",
   "name": "python",
   "nbconvert_exporter": "python",
   "pygments_lexer": "ipython3",
   "version": "3.11.5"
  }
 },
 "nbformat": 4,
 "nbformat_minor": 5
}
